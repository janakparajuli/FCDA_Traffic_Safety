{
 "cells": [
  {
   "cell_type": "markdown",
   "metadata": {},
   "source": [
    "# Artificial Neural Network for Binary Classification of Accident Data"
   ]
  },
  {
   "cell_type": "raw",
   "metadata": {},
   "source": [
    "In this model, we will build an artificial neural network (ANN) for binary classification of accident data. This model can be used with any accident data changing just the columns accordingly. Here we implement this model using Unfallatlas data of Germany."
   ]
  },
  {
   "cell_type": "raw",
   "metadata": {},
   "source": [
    "Firstly, we begin with some adjustment with the data and understanding the relation between the variables."
   ]
  },
  {
   "cell_type": "code",
   "execution_count": 9,
   "metadata": {},
   "outputs": [],
   "source": [
    "# Importing the libraries\n",
    "import numpy as np\n",
    "import matplotlib.pyplot as plt\n",
    "import pandas as pd\n",
    "\n",
    "# Import the dataset. We will use the accident data from Unfallatlas of Germany.\n",
    "dataset = pd.read_csv('Unfallorte_Combined.csv')\n"
   ]
  },
  {
   "cell_type": "code",
   "execution_count": 10,
   "metadata": {},
   "outputs": [
    {
     "data": {
      "text/html": [
       "<div>\n",
       "<style scoped>\n",
       "    .dataframe tbody tr th:only-of-type {\n",
       "        vertical-align: middle;\n",
       "    }\n",
       "\n",
       "    .dataframe tbody tr th {\n",
       "        vertical-align: top;\n",
       "    }\n",
       "\n",
       "    .dataframe thead th {\n",
       "        text-align: right;\n",
       "    }\n",
       "</style>\n",
       "<table border=\"1\" class=\"dataframe\">\n",
       "  <thead>\n",
       "    <tr style=\"text-align: right;\">\n",
       "      <th></th>\n",
       "      <th>SN</th>\n",
       "      <th>District</th>\n",
       "      <th>Imperial_Circle</th>\n",
       "      <th>Community</th>\n",
       "      <th>Year</th>\n",
       "      <th>Month</th>\n",
       "      <th>Weekday</th>\n",
       "      <th>Hour</th>\n",
       "      <th>Road</th>\n",
       "      <th>Cycle</th>\n",
       "      <th>...</th>\n",
       "      <th>Motorcycle</th>\n",
       "      <th>Goods Vehicle</th>\n",
       "      <th>Others</th>\n",
       "      <th>Total</th>\n",
       "      <th>Collision Type</th>\n",
       "      <th>Accident Type</th>\n",
       "      <th>Light Condition</th>\n",
       "      <th>Road Condition</th>\n",
       "      <th>Accident_Severity</th>\n",
       "      <th>Severity</th>\n",
       "    </tr>\n",
       "  </thead>\n",
       "  <tbody>\n",
       "    <tr>\n",
       "      <th>0</th>\n",
       "      <td>1</td>\n",
       "      <td>7</td>\n",
       "      <td>9</td>\n",
       "      <td>710</td>\n",
       "      <td>2016</td>\n",
       "      <td>2</td>\n",
       "      <td>4</td>\n",
       "      <td>16</td>\n",
       "      <td>0</td>\n",
       "      <td>0</td>\n",
       "      <td>...</td>\n",
       "      <td>1</td>\n",
       "      <td>0</td>\n",
       "      <td>0</td>\n",
       "      <td>2</td>\n",
       "      <td>2</td>\n",
       "      <td>2</td>\n",
       "      <td>0</td>\n",
       "      <td>3</td>\n",
       "      <td>3</td>\n",
       "      <td>0</td>\n",
       "    </tr>\n",
       "    <tr>\n",
       "      <th>1</th>\n",
       "      <td>2</td>\n",
       "      <td>1</td>\n",
       "      <td>19</td>\n",
       "      <td>140</td>\n",
       "      <td>2016</td>\n",
       "      <td>4</td>\n",
       "      <td>7</td>\n",
       "      <td>11</td>\n",
       "      <td>0</td>\n",
       "      <td>0</td>\n",
       "      <td>...</td>\n",
       "      <td>0</td>\n",
       "      <td>0</td>\n",
       "      <td>1</td>\n",
       "      <td>2</td>\n",
       "      <td>2</td>\n",
       "      <td>6</td>\n",
       "      <td>0</td>\n",
       "      <td>3</td>\n",
       "      <td>3</td>\n",
       "      <td>0</td>\n",
       "    </tr>\n",
       "    <tr>\n",
       "      <th>2</th>\n",
       "      <td>3</td>\n",
       "      <td>6</td>\n",
       "      <td>9</td>\n",
       "      <td>610</td>\n",
       "      <td>2016</td>\n",
       "      <td>1</td>\n",
       "      <td>2</td>\n",
       "      <td>13</td>\n",
       "      <td>0</td>\n",
       "      <td>0</td>\n",
       "      <td>...</td>\n",
       "      <td>0</td>\n",
       "      <td>0</td>\n",
       "      <td>0</td>\n",
       "      <td>2</td>\n",
       "      <td>6</td>\n",
       "      <td>4</td>\n",
       "      <td>0</td>\n",
       "      <td>3</td>\n",
       "      <td>2</td>\n",
       "      <td>1</td>\n",
       "    </tr>\n",
       "    <tr>\n",
       "      <th>3</th>\n",
       "      <td>4</td>\n",
       "      <td>1</td>\n",
       "      <td>1</td>\n",
       "      <td>102</td>\n",
       "      <td>2016</td>\n",
       "      <td>3</td>\n",
       "      <td>7</td>\n",
       "      <td>16</td>\n",
       "      <td>0</td>\n",
       "      <td>0</td>\n",
       "      <td>...</td>\n",
       "      <td>1</td>\n",
       "      <td>0</td>\n",
       "      <td>1</td>\n",
       "      <td>3</td>\n",
       "      <td>2</td>\n",
       "      <td>6</td>\n",
       "      <td>0</td>\n",
       "      <td>3</td>\n",
       "      <td>2</td>\n",
       "      <td>1</td>\n",
       "    </tr>\n",
       "    <tr>\n",
       "      <th>4</th>\n",
       "      <td>5</td>\n",
       "      <td>3</td>\n",
       "      <td>5</td>\n",
       "      <td>317</td>\n",
       "      <td>2016</td>\n",
       "      <td>2</td>\n",
       "      <td>1</td>\n",
       "      <td>18</td>\n",
       "      <td>0</td>\n",
       "      <td>0</td>\n",
       "      <td>...</td>\n",
       "      <td>0</td>\n",
       "      <td>0</td>\n",
       "      <td>0</td>\n",
       "      <td>1</td>\n",
       "      <td>9</td>\n",
       "      <td>1</td>\n",
       "      <td>2</td>\n",
       "      <td>3</td>\n",
       "      <td>3</td>\n",
       "      <td>0</td>\n",
       "    </tr>\n",
       "    <tr>\n",
       "      <th>...</th>\n",
       "      <td>...</td>\n",
       "      <td>...</td>\n",
       "      <td>...</td>\n",
       "      <td>...</td>\n",
       "      <td>...</td>\n",
       "      <td>...</td>\n",
       "      <td>...</td>\n",
       "      <td>...</td>\n",
       "      <td>...</td>\n",
       "      <td>...</td>\n",
       "      <td>...</td>\n",
       "      <td>...</td>\n",
       "      <td>...</td>\n",
       "      <td>...</td>\n",
       "      <td>...</td>\n",
       "      <td>...</td>\n",
       "      <td>...</td>\n",
       "      <td>...</td>\n",
       "      <td>...</td>\n",
       "      <td>...</td>\n",
       "      <td>...</td>\n",
       "    </tr>\n",
       "    <tr>\n",
       "      <th>21465</th>\n",
       "      <td>21466</td>\n",
       "      <td>3</td>\n",
       "      <td>2</td>\n",
       "      <td>312</td>\n",
       "      <td>2018</td>\n",
       "      <td>12</td>\n",
       "      <td>6</td>\n",
       "      <td>17</td>\n",
       "      <td>0</td>\n",
       "      <td>0</td>\n",
       "      <td>...</td>\n",
       "      <td>0</td>\n",
       "      <td>0</td>\n",
       "      <td>0</td>\n",
       "      <td>2</td>\n",
       "      <td>6</td>\n",
       "      <td>7</td>\n",
       "      <td>3</td>\n",
       "      <td>1</td>\n",
       "      <td>3</td>\n",
       "      <td>0</td>\n",
       "    </tr>\n",
       "    <tr>\n",
       "      <th>21466</th>\n",
       "      <td>21467</td>\n",
       "      <td>3</td>\n",
       "      <td>1</td>\n",
       "      <td>310</td>\n",
       "      <td>2018</td>\n",
       "      <td>12</td>\n",
       "      <td>6</td>\n",
       "      <td>8</td>\n",
       "      <td>0</td>\n",
       "      <td>1</td>\n",
       "      <td>...</td>\n",
       "      <td>0</td>\n",
       "      <td>0</td>\n",
       "      <td>0</td>\n",
       "      <td>2</td>\n",
       "      <td>3</td>\n",
       "      <td>2</td>\n",
       "      <td>3</td>\n",
       "      <td>1</td>\n",
       "      <td>3</td>\n",
       "      <td>0</td>\n",
       "    </tr>\n",
       "    <tr>\n",
       "      <th>21467</th>\n",
       "      <td>21468</td>\n",
       "      <td>2</td>\n",
       "      <td>1</td>\n",
       "      <td>201</td>\n",
       "      <td>2018</td>\n",
       "      <td>12</td>\n",
       "      <td>6</td>\n",
       "      <td>14</td>\n",
       "      <td>0</td>\n",
       "      <td>0</td>\n",
       "      <td>...</td>\n",
       "      <td>0</td>\n",
       "      <td>0</td>\n",
       "      <td>0</td>\n",
       "      <td>1</td>\n",
       "      <td>2</td>\n",
       "      <td>7</td>\n",
       "      <td>3</td>\n",
       "      <td>1</td>\n",
       "      <td>3</td>\n",
       "      <td>0</td>\n",
       "    </tr>\n",
       "    <tr>\n",
       "      <th>21468</th>\n",
       "      <td>21469</td>\n",
       "      <td>1</td>\n",
       "      <td>3</td>\n",
       "      <td>105</td>\n",
       "      <td>2018</td>\n",
       "      <td>12</td>\n",
       "      <td>6</td>\n",
       "      <td>10</td>\n",
       "      <td>0</td>\n",
       "      <td>1</td>\n",
       "      <td>...</td>\n",
       "      <td>0</td>\n",
       "      <td>0</td>\n",
       "      <td>0</td>\n",
       "      <td>2</td>\n",
       "      <td>1</td>\n",
       "      <td>5</td>\n",
       "      <td>3</td>\n",
       "      <td>1</td>\n",
       "      <td>3</td>\n",
       "      <td>0</td>\n",
       "    </tr>\n",
       "    <tr>\n",
       "      <th>21469</th>\n",
       "      <td>21470</td>\n",
       "      <td>5</td>\n",
       "      <td>9</td>\n",
       "      <td>517</td>\n",
       "      <td>2018</td>\n",
       "      <td>12</td>\n",
       "      <td>5</td>\n",
       "      <td>22</td>\n",
       "      <td>0</td>\n",
       "      <td>0</td>\n",
       "      <td>...</td>\n",
       "      <td>0</td>\n",
       "      <td>0</td>\n",
       "      <td>0</td>\n",
       "      <td>1</td>\n",
       "      <td>1</td>\n",
       "      <td>5</td>\n",
       "      <td>3</td>\n",
       "      <td>1</td>\n",
       "      <td>3</td>\n",
       "      <td>0</td>\n",
       "    </tr>\n",
       "  </tbody>\n",
       "</table>\n",
       "<p>21470 rows × 22 columns</p>\n",
       "</div>"
      ],
      "text/plain": [
       "          SN  District  Imperial_Circle  Community  Year  Month  Weekday  \\\n",
       "0          1         7                9        710  2016      2        4   \n",
       "1          2         1               19        140  2016      4        7   \n",
       "2          3         6                9        610  2016      1        2   \n",
       "3          4         1                1        102  2016      3        7   \n",
       "4          5         3                5        317  2016      2        1   \n",
       "...      ...       ...              ...        ...   ...    ...      ...   \n",
       "21465  21466         3                2        312  2018     12        6   \n",
       "21466  21467         3                1        310  2018     12        6   \n",
       "21467  21468         2                1        201  2018     12        6   \n",
       "21468  21469         1                3        105  2018     12        6   \n",
       "21469  21470         5                9        517  2018     12        5   \n",
       "\n",
       "       Hour  Road  Cycle  ...  Motorcycle  Goods Vehicle  Others  Total  \\\n",
       "0        16     0      0  ...           1              0       0      2   \n",
       "1        11     0      0  ...           0              0       1      2   \n",
       "2        13     0      0  ...           0              0       0      2   \n",
       "3        16     0      0  ...           1              0       1      3   \n",
       "4        18     0      0  ...           0              0       0      1   \n",
       "...     ...   ...    ...  ...         ...            ...     ...    ...   \n",
       "21465    17     0      0  ...           0              0       0      2   \n",
       "21466     8     0      1  ...           0              0       0      2   \n",
       "21467    14     0      0  ...           0              0       0      1   \n",
       "21468    10     0      1  ...           0              0       0      2   \n",
       "21469    22     0      0  ...           0              0       0      1   \n",
       "\n",
       "       Collision Type  Accident Type  Light Condition  Road Condition  \\\n",
       "0                   2              2                0               3   \n",
       "1                   2              6                0               3   \n",
       "2                   6              4                0               3   \n",
       "3                   2              6                0               3   \n",
       "4                   9              1                2               3   \n",
       "...               ...            ...              ...             ...   \n",
       "21465               6              7                3               1   \n",
       "21466               3              2                3               1   \n",
       "21467               2              7                3               1   \n",
       "21468               1              5                3               1   \n",
       "21469               1              5                3               1   \n",
       "\n",
       "       Accident_Severity  Severity  \n",
       "0                      3         0  \n",
       "1                      3         0  \n",
       "2                      2         1  \n",
       "3                      2         1  \n",
       "4                      3         0  \n",
       "...                  ...       ...  \n",
       "21465                  3         0  \n",
       "21466                  3         0  \n",
       "21467                  3         0  \n",
       "21468                  3         0  \n",
       "21469                  3         0  \n",
       "\n",
       "[21470 rows x 22 columns]"
      ]
     },
     "execution_count": 10,
     "metadata": {},
     "output_type": "execute_result"
    }
   ],
   "source": [
    "dataset"
   ]
  },
  {
   "cell_type": "raw",
   "metadata": {},
   "source": [
    "Here we will use the severity column of data. Accidents with casualties, serious injuries and heavy property damage are considered as severe(1) and those with no casualty, minor injury, less property damage are considered as minor(0)\n"
   ]
  },
  {
   "cell_type": "markdown",
   "metadata": {},
   "source": [
    "## A. Tool for Correlation between variables"
   ]
  },
  {
   "cell_type": "raw",
   "metadata": {},
   "source": [
    "Before going for modeling, lets study the relationship between the variables involved through correlation diagram. We will use District(1),Month(5),Weekday(6),Light Condition(15) and Road Condition(18) and Severity variables."
   ]
  },
  {
   "cell_type": "code",
   "execution_count": 11,
   "metadata": {},
   "outputs": [
    {
     "data": {
      "text/html": [
       "<div>\n",
       "<style scoped>\n",
       "    .dataframe tbody tr th:only-of-type {\n",
       "        vertical-align: middle;\n",
       "    }\n",
       "\n",
       "    .dataframe tbody tr th {\n",
       "        vertical-align: top;\n",
       "    }\n",
       "\n",
       "    .dataframe thead th {\n",
       "        text-align: right;\n",
       "    }\n",
       "</style>\n",
       "<table border=\"1\" class=\"dataframe\">\n",
       "  <thead>\n",
       "    <tr style=\"text-align: right;\">\n",
       "      <th></th>\n",
       "      <th>District</th>\n",
       "      <th>Imperial_Circle</th>\n",
       "      <th>Community</th>\n",
       "      <th>Month</th>\n",
       "      <th>Weekday</th>\n",
       "      <th>Hour</th>\n",
       "      <th>Light Condition</th>\n",
       "      <th>Road Condition</th>\n",
       "      <th>Severity</th>\n",
       "      <th>Total</th>\n",
       "    </tr>\n",
       "  </thead>\n",
       "  <tbody>\n",
       "    <tr>\n",
       "      <th>0</th>\n",
       "      <td>7</td>\n",
       "      <td>9</td>\n",
       "      <td>710</td>\n",
       "      <td>2</td>\n",
       "      <td>4</td>\n",
       "      <td>16</td>\n",
       "      <td>0</td>\n",
       "      <td>3</td>\n",
       "      <td>0</td>\n",
       "      <td>2</td>\n",
       "    </tr>\n",
       "    <tr>\n",
       "      <th>1</th>\n",
       "      <td>1</td>\n",
       "      <td>19</td>\n",
       "      <td>140</td>\n",
       "      <td>4</td>\n",
       "      <td>7</td>\n",
       "      <td>11</td>\n",
       "      <td>0</td>\n",
       "      <td>3</td>\n",
       "      <td>0</td>\n",
       "      <td>2</td>\n",
       "    </tr>\n",
       "    <tr>\n",
       "      <th>2</th>\n",
       "      <td>6</td>\n",
       "      <td>9</td>\n",
       "      <td>610</td>\n",
       "      <td>1</td>\n",
       "      <td>2</td>\n",
       "      <td>13</td>\n",
       "      <td>0</td>\n",
       "      <td>3</td>\n",
       "      <td>1</td>\n",
       "      <td>2</td>\n",
       "    </tr>\n",
       "    <tr>\n",
       "      <th>3</th>\n",
       "      <td>1</td>\n",
       "      <td>1</td>\n",
       "      <td>102</td>\n",
       "      <td>3</td>\n",
       "      <td>7</td>\n",
       "      <td>16</td>\n",
       "      <td>0</td>\n",
       "      <td>3</td>\n",
       "      <td>1</td>\n",
       "      <td>3</td>\n",
       "    </tr>\n",
       "    <tr>\n",
       "      <th>4</th>\n",
       "      <td>3</td>\n",
       "      <td>5</td>\n",
       "      <td>317</td>\n",
       "      <td>2</td>\n",
       "      <td>1</td>\n",
       "      <td>18</td>\n",
       "      <td>2</td>\n",
       "      <td>3</td>\n",
       "      <td>0</td>\n",
       "      <td>1</td>\n",
       "    </tr>\n",
       "    <tr>\n",
       "      <th>...</th>\n",
       "      <td>...</td>\n",
       "      <td>...</td>\n",
       "      <td>...</td>\n",
       "      <td>...</td>\n",
       "      <td>...</td>\n",
       "      <td>...</td>\n",
       "      <td>...</td>\n",
       "      <td>...</td>\n",
       "      <td>...</td>\n",
       "      <td>...</td>\n",
       "    </tr>\n",
       "    <tr>\n",
       "      <th>21465</th>\n",
       "      <td>3</td>\n",
       "      <td>2</td>\n",
       "      <td>312</td>\n",
       "      <td>12</td>\n",
       "      <td>6</td>\n",
       "      <td>17</td>\n",
       "      <td>3</td>\n",
       "      <td>1</td>\n",
       "      <td>0</td>\n",
       "      <td>2</td>\n",
       "    </tr>\n",
       "    <tr>\n",
       "      <th>21466</th>\n",
       "      <td>3</td>\n",
       "      <td>1</td>\n",
       "      <td>310</td>\n",
       "      <td>12</td>\n",
       "      <td>6</td>\n",
       "      <td>8</td>\n",
       "      <td>3</td>\n",
       "      <td>1</td>\n",
       "      <td>0</td>\n",
       "      <td>2</td>\n",
       "    </tr>\n",
       "    <tr>\n",
       "      <th>21467</th>\n",
       "      <td>2</td>\n",
       "      <td>1</td>\n",
       "      <td>201</td>\n",
       "      <td>12</td>\n",
       "      <td>6</td>\n",
       "      <td>14</td>\n",
       "      <td>3</td>\n",
       "      <td>1</td>\n",
       "      <td>0</td>\n",
       "      <td>1</td>\n",
       "    </tr>\n",
       "    <tr>\n",
       "      <th>21468</th>\n",
       "      <td>1</td>\n",
       "      <td>3</td>\n",
       "      <td>105</td>\n",
       "      <td>12</td>\n",
       "      <td>6</td>\n",
       "      <td>10</td>\n",
       "      <td>3</td>\n",
       "      <td>1</td>\n",
       "      <td>0</td>\n",
       "      <td>2</td>\n",
       "    </tr>\n",
       "    <tr>\n",
       "      <th>21469</th>\n",
       "      <td>5</td>\n",
       "      <td>9</td>\n",
       "      <td>517</td>\n",
       "      <td>12</td>\n",
       "      <td>5</td>\n",
       "      <td>22</td>\n",
       "      <td>3</td>\n",
       "      <td>1</td>\n",
       "      <td>0</td>\n",
       "      <td>1</td>\n",
       "    </tr>\n",
       "  </tbody>\n",
       "</table>\n",
       "<p>21470 rows × 10 columns</p>\n",
       "</div>"
      ],
      "text/plain": [
       "       District  Imperial_Circle  Community  Month  Weekday  Hour  \\\n",
       "0             7                9        710      2        4    16   \n",
       "1             1               19        140      4        7    11   \n",
       "2             6                9        610      1        2    13   \n",
       "3             1                1        102      3        7    16   \n",
       "4             3                5        317      2        1    18   \n",
       "...         ...              ...        ...    ...      ...   ...   \n",
       "21465         3                2        312     12        6    17   \n",
       "21466         3                1        310     12        6     8   \n",
       "21467         2                1        201     12        6    14   \n",
       "21468         1                3        105     12        6    10   \n",
       "21469         5                9        517     12        5    22   \n",
       "\n",
       "       Light Condition  Road Condition  Severity  Total  \n",
       "0                    0               3         0      2  \n",
       "1                    0               3         0      2  \n",
       "2                    0               3         1      2  \n",
       "3                    0               3         1      3  \n",
       "4                    2               3         0      1  \n",
       "...                ...             ...       ...    ...  \n",
       "21465                3               1         0      2  \n",
       "21466                3               1         0      2  \n",
       "21467                3               1         0      1  \n",
       "21468                3               1         0      2  \n",
       "21469                3               1         0      1  \n",
       "\n",
       "[21470 rows x 10 columns]"
      ]
     },
     "execution_count": 11,
     "metadata": {},
     "output_type": "execute_result"
    }
   ],
   "source": [
    "corr_data = dataset[['District','Imperial_Circle','Community', 'Month', 'Weekday','Hour', 'Light Condition', 'Road Condition', 'Severity', 'Total']]\n",
    "corr_data"
   ]
  },
  {
   "cell_type": "code",
   "execution_count": 12,
   "metadata": {},
   "outputs": [
    {
     "data": {
      "image/png": "[encoded data removed]",
      "text/plain": [
       "<Figure size 432x288 with 2 Axes>"
      ]
     },
     "metadata": {
      "needs_background": "light"
     },
     "output_type": "display_data"
    }
   ],
   "source": [
    "#First lets import the library\n",
    "import seaborn as sns\n",
    "corr = corr_data.corr()\n",
    "sns.heatmap(corr, \n",
    "            xticklabels=corr.columns.values,\n",
    "            yticklabels=corr.columns.values)\n",
    "plt.show()"
   ]
  },
  {
   "cell_type": "raw",
   "metadata": {},
   "source": [
    "We can observe moderate correlation between severity and other variables. Total accident has slightly negative relations with light condition, month and weekday. It has positive relation with road condition"
   ]
  },
  {
   "cell_type": "markdown",
   "metadata": {},
   "source": [
    "## B. Tools for Preprocessing of variables"
   ]
  },
  {
   "cell_type": "markdown",
   "metadata": {},
   "source": [
    "### Convert categorical values into integers"
   ]
  },
  {
   "cell_type": "raw",
   "metadata": {},
   "source": [
    "We need to select only those independent variables that influence dependent variables. We should check the types of these variables. String variables should be converted to floating values. In our data there are no string values. Had there been string values, we would have converted the column using: \n",
    "\n",
    "ct = ColumnTransformer([('encoder', OneHotEncoder(), [<Index of column>])], remainder='passthrough')\n",
    "X[:, <Index of column>:] = np.array(ct.fit_transform(X[:, <Index of column>:]), dtype=np.float)\n"
   ]
  },
  {
   "cell_type": "code",
   "execution_count": 13,
   "metadata": {},
   "outputs": [
    {
     "data": {
      "text/plain": [
       "Index(['District', 'Imperial_Circle', 'Community', 'Month', 'Weekday', 'Hour',\n",
       "       'Light Condition', 'Road Condition', 'Severity'],\n",
       "      dtype='object')"
      ]
     },
     "execution_count": 13,
     "metadata": {},
     "output_type": "execute_result"
    }
   ],
   "source": [
    "#Take only those variables which can have effect to accident, \n",
    "#District(1),Imperial_Circle(2), Community(3), Month(5),Weekday(6),Hour(7), Light Condition(18) and Road Condition(19) and Severity\n",
    "check = dataset.iloc[:, [1,2,3,5,6,7,18,19,-1]].columns\n",
    "X = dataset.iloc[:, [1,2,3,5,6,7,18,19]].values \n",
    "y = dataset.iloc[:, [-1]].values\n",
    "check"
   ]
  },
  {
   "cell_type": "code",
   "execution_count": 14,
   "metadata": {},
   "outputs": [
    {
     "name": "stdout",
     "output_type": "stream",
     "text": [
      "int64\n",
      "int64\n"
     ]
    }
   ],
   "source": [
    "#Check the types of the variables\n",
    "print(X.dtype)\n",
    "print(y.dtype)"
   ]
  },
  {
   "cell_type": "raw",
   "metadata": {},
   "source": [
    "Both are integers, so we are fine to proceed."
   ]
  },
  {
   "cell_type": "markdown",
   "metadata": {},
   "source": [
    "### Fill out the missing values"
   ]
  },
  {
   "cell_type": "raw",
   "metadata": {},
   "source": [
    "Check for null values."
   ]
  },
  {
   "cell_type": "code",
   "execution_count": 15,
   "metadata": {},
   "outputs": [
    {
     "name": "stdout",
     "output_type": "stream",
     "text": [
      "False\n",
      "False\n"
     ]
    }
   ],
   "source": [
    "print(np.isnan(X).any())\n",
    "print(np.isnan(y).any())"
   ]
  },
  {
   "cell_type": "raw",
   "metadata": {},
   "source": [
    "There are no null values in this data. Had there been any, the following code can be used to fill it with the column mean"
   ]
  },
  {
   "cell_type": "raw",
   "metadata": {},
   "source": [
    "# Fill out the missing values with their mean\n",
    "from sklearn.preprocessing import Imputer\n",
    "imputer = Imputer(missing_values = 'NaN', strategy = 'mean', axis = 0)\n",
    "imputer.fit(X[:, 1:3])\n",
    "X[:, <range of columns to check for>] = imputer.transform(X[:, <range of columns to check for>])"
   ]
  },
  {
   "cell_type": "markdown",
   "metadata": {},
   "source": [
    "## C. Tools for Modeling"
   ]
  },
  {
   "cell_type": "markdown",
   "metadata": {},
   "source": [
    "## Split the data into train and test"
   ]
  },
  {
   "cell_type": "raw",
   "metadata": {},
   "source": [
    "It is necessary to split the data into two sections before proceeding for modeling. Also there is a question that whether data standardizations should be done before or after splitting. It should be kept in mind that if scaling is done before splitting then there will be leakage of information between training dataset and testing dataset which makes the model testing meaningless. Hence, there should be no doubt that data scaling should be done only after splitting the dataset."
   ]
  },
  {
   "cell_type": "raw",
   "metadata": {},
   "source": [
    "It is normal practice to split the dataset in the ration of 80:20 between training set and testing set. random_state varible will split the data with same random effect, so if this variable is not set then there is no point of splitting."
   ]
  },
  {
   "cell_type": "code",
   "execution_count": 16,
   "metadata": {},
   "outputs": [],
   "source": [
    "from sklearn.model_selection import train_test_split\n",
    "X_train, X_test, y_train, y_test = train_test_split(X, y, test_size = 0.25, random_state = 0)"
   ]
  },
  {
   "cell_type": "raw",
   "metadata": {},
   "source": [
    "Now is the time for standardizing the dataset. However, in data science practiotioners are often in confusion whether to standardize or normalize the data. It should be noted that data standardization works for all sorts of data and gives the range of values generally from -3 to +3 while data normalization is fine for only those data with normal distribution and it gives range betwen 0 and 1. So, as a rule of thumb we will do data standardization here."
   ]
  },
  {
   "cell_type": "code",
   "execution_count": 17,
   "metadata": {},
   "outputs": [],
   "source": [
    "# Import `StandardScaler` from `sklearn.preprocessing`\n",
    "from sklearn.preprocessing import StandardScaler\n",
    "\n",
    "# Define the scaler \n",
    "scaler = StandardScaler().fit(X_train)\n",
    "\n",
    "# Scale the train set\n",
    "X_train = scaler.transform(X_train)\n",
    "\n",
    "# Scale the test set\n",
    "X_test = scaler.transform(X_test)\n",
    "#It should be kept in mind never to use fit() function for testing set. \n",
    "#If it is used, fit() method will create a new scaler for testing set also."
   ]
  },
  {
   "cell_type": "code",
   "execution_count": 18,
   "metadata": {},
   "outputs": [
    {
     "name": "stdout",
     "output_type": "stream",
     "text": [
      "(16102, 8)\n",
      "(5368, 8)\n",
      "(16102, 1)\n",
      "(5368, 1)\n"
     ]
    }
   ],
   "source": [
    "#See the shape of training and testing set\n",
    "print(X_train.shape)\n",
    "print(X_test.shape)\n",
    "print(y_train.shape)\n",
    "print(y_test.shape)"
   ]
  },
  {
   "cell_type": "markdown",
   "metadata": {},
   "source": [
    "### Building the model"
   ]
  },
  {
   "cell_type": "raw",
   "metadata": {},
   "source": [
    "To build the model, we initilize it with Sequential constructor at first. The parameters for modeling should be chosen based on the input data and output data. Number of hidden layers are chosen either:\n",
    "    a. Between the number of input and output data\n",
    "    b. Hit and trial basis for which the model performs the best."
   ]
  },
  {
   "cell_type": "raw",
   "metadata": {},
   "source": [
    "Below is the explanation of our chosen parameters:\n",
    "input_dim = 8: There are eight training variables in our data\n",
    "'activation' of hidden layers  = 'relu': To remove the linearity between variables.\n",
    "kernel_initializer = 'uniform' : To uniformly initilize the model\n",
    "units = 4 : Rule of thumb is (input variables + output variables)/2. Not mandatory though but in this case we followed this                 rule.\n",
    "'activation' of output layer = 'sigmoid': Our output is binary so we chose 'sigmoid'. Had it been multi-class, we would have                                             chose 'softmax'"
   ]
  },
  {
   "cell_type": "code",
   "execution_count": 19,
   "metadata": {},
   "outputs": [],
   "source": [
    "#Importing keras libraries and packages\n",
    "import keras\n",
    "from keras.models import Sequential\n",
    "from keras.layers import Dense, Dropout"
   ]
  },
  {
   "cell_type": "code",
   "execution_count": 20,
   "metadata": {},
   "outputs": [],
   "source": [
    "# Initialize the constructor\n",
    "classifier = Sequential()\n",
    "\n",
    "# Add an input+hidden layer \n",
    "classifier.add(Dense(5, kernel_initializer = 'uniform', activation = 'relu', input_dim = 8))\n",
    "\n",
    "# Add first hidden layer \n",
    "classifier.add(Dense(5, kernel_initializer = 'uniform', activation = 'relu'))\n",
    "#model.add(Dropout(rate = 0.3))\n",
    "\n",
    "# Add second hidden layer \n",
    "classifier.add(Dense(5, kernel_initializer = 'uniform', activation = 'relu'))\n",
    "#model.add(Dropout(rate = 0.3))\n",
    "\n",
    "# Add third hidden layer \n",
    "#classifier.add(Dense(4, kernel_initializer = 'uniform', activation = 'relu'))\n",
    "#model.add(Dropout(rate = 0.3))\n",
    "\n",
    "# Add an output layer \n",
    "classifier.add(Dense(1, kernel_initializer = 'uniform', activation = 'sigmoid'))\n"
   ]
  },
  {
   "cell_type": "raw",
   "metadata": {},
   "source": [
    "Know the properties of model we are building"
   ]
  },
  {
   "cell_type": "code",
   "execution_count": 21,
   "metadata": {},
   "outputs": [
    {
     "name": "stdout",
     "output_type": "stream",
     "text": [
      "Model: \"sequential_11\"\n",
      "_________________________________________________________________\n",
      "Layer (type)                 Output Shape              Param #   \n",
      "=================================================================\n",
      "dense_31 (Dense)             (None, 5)                 45        \n",
      "_________________________________________________________________\n",
      "dense_32 (Dense)             (None, 5)                 30        \n",
      "_________________________________________________________________\n",
      "dense_33 (Dense)             (None, 5)                 30        \n",
      "_________________________________________________________________\n",
      "dense_34 (Dense)             (None, 1)                 6         \n",
      "=================================================================\n",
      "Total params: 111\n",
      "Trainable params: 111\n",
      "Non-trainable params: 0\n",
      "_________________________________________________________________\n"
     ]
    },
    {
     "data": {
      "text/plain": [
       "[array([[-0.02139466, -0.02977877, -0.01343446, -0.02575888, -0.01994397],\n",
       "        [ 0.0110788 , -0.03580685, -0.01877223,  0.00226227,  0.02123595],\n",
       "        [ 0.04380604, -0.03686342,  0.017921  ,  0.01677981, -0.04025381],\n",
       "        [ 0.00141595, -0.03293262,  0.00058319, -0.04833018,  0.02094451],\n",
       "        [ 0.0392195 ,  0.0294704 ,  0.03381319, -0.02841702,  0.02640035],\n",
       "        [ 0.01476157,  0.01112231, -0.02313279,  0.01453217, -0.03058726],\n",
       "        [ 0.04722903,  0.03029453,  0.03824108, -0.0037159 , -0.04580723],\n",
       "        [ 0.04152537, -0.00592498,  0.04100415, -0.00762299, -0.04820198]],\n",
       "       dtype=float32),\n",
       " array([0., 0., 0., 0., 0.], dtype=float32),\n",
       " array([[-0.02900451,  0.00642338,  0.04556772, -0.03266777, -0.03020843],\n",
       "        [-0.01440517,  0.04146104,  0.03392644,  0.00725701,  0.00505032],\n",
       "        [-0.02506327, -0.0146725 , -0.04012086, -0.03320669, -0.03076803],\n",
       "        [ 0.02190397, -0.01411793,  0.03687609, -0.01788257, -0.01867478],\n",
       "        [-0.01657257, -0.0440986 ,  0.04009474, -0.02598031,  0.02759231]],\n",
       "       dtype=float32),\n",
       " array([0., 0., 0., 0., 0.], dtype=float32),\n",
       " array([[ 0.01160704,  0.03968098,  0.02122367,  0.01324633, -0.04198694],\n",
       "        [-0.0142923 , -0.02755733,  0.04578941, -0.00173212,  0.00740724],\n",
       "        [-0.0319141 ,  0.04944458, -0.01000614,  0.02527591, -0.00182126],\n",
       "        [ 0.0222005 , -0.04355574, -0.01559849,  0.02884733,  0.00691639],\n",
       "        [-0.03866187,  0.04065032,  0.02402126, -0.02974651, -0.02033918]],\n",
       "       dtype=float32),\n",
       " array([0., 0., 0., 0., 0.], dtype=float32),\n",
       " array([[0.01926031],\n",
       "        [0.0198606 ],\n",
       "        [0.02577758],\n",
       "        [0.01448714],\n",
       "        [0.03192414]], dtype=float32),\n",
       " array([0.], dtype=float32)]"
      ]
     },
     "execution_count": 21,
     "metadata": {},
     "output_type": "execute_result"
    }
   ],
   "source": [
    "# Model output shape\n",
    "classifier.output_shape\n",
    "\n",
    "# Model summary\n",
    "classifier.summary()\n",
    "\n",
    "# Model configuration\n",
    "#classifier.get_config()\n",
    "\n",
    "# List all weight tensors \n",
    "classifier.get_weights()"
   ]
  },
  {
   "cell_type": "markdown",
   "metadata": {},
   "source": [
    "## Compiling and fitting the model"
   ]
  },
  {
   "cell_type": "raw",
   "metadata": {},
   "source": [
    "Below is an explanation of parameters chosen for compiling and fitting:\n",
    "loss = 'binary_crossentropy':The model is binary\n",
    "optimizer = 'adam': Stochastic gradient descent(SGD) is suitable approach to find the global minimum between over-fitting and under-fitting. 'adam' is a type of SGD. You can use 'rmsprop' also.\n",
    "metrics = 'accuracy': We want to quantify the performance and accuracy of model.\n",
    "epochs = 50: It is set on hit and trail basis. Can be changed according to the model performance.\n",
    "batch_size = 10: It is set on hit and trail basis. Can be changed according to the model performance.\n",
    "verbose = 1: To see the model progress"
   ]
  },
  {
   "cell_type": "code",
   "execution_count": 22,
   "metadata": {},
   "outputs": [
    {
     "name": "stdout",
     "output_type": "stream",
     "text": [
      "Epoch 1/75\n",
      "16102/16102 [==============================] - 2s 118us/step - loss: 0.5017 - accuracy: 0.8931\n",
      "Epoch 2/75\n",
      "16102/16102 [==============================] - 2s 101us/step - loss: 0.3609 - accuracy: 0.8934\n",
      "Epoch 3/75\n",
      "16102/16102 [==============================] - 2s 97us/step - loss: 0.3414 - accuracy: 0.8934\n",
      "Epoch 4/75\n",
      "16102/16102 [==============================] - 2s 98us/step - loss: 0.3396 - accuracy: 0.8934\n",
      "Epoch 5/75\n",
      "16102/16102 [==============================] - 2s 98us/step - loss: 0.3395 - accuracy: 0.8934\n",
      "Epoch 6/75\n",
      "16102/16102 [==============================] - 2s 97us/step - loss: 0.3395 - accuracy: 0.8934\n",
      "Epoch 7/75\n",
      "16102/16102 [==============================] - 2s 97us/step - loss: 0.3395 - accuracy: 0.8934\n",
      "Epoch 8/75\n",
      "16102/16102 [==============================] - 2s 107us/step - loss: 0.3394 - accuracy: 0.8934\n",
      "Epoch 9/75\n",
      "16102/16102 [==============================] - 2s 113us/step - loss: 0.3395 - accuracy: 0.8934\n",
      "Epoch 10/75\n",
      "16102/16102 [==============================] - 2s 121us/step - loss: 0.3394 - accuracy: 0.8934\n",
      "Epoch 11/75\n",
      "16102/16102 [==============================] - 2s 121us/step - loss: 0.3395 - accuracy: 0.8934\n",
      "Epoch 12/75\n",
      "16102/16102 [==============================] - 2s 120us/step - loss: 0.3395 - accuracy: 0.8934\n",
      "Epoch 13/75\n",
      "16102/16102 [==============================] - 2s 108us/step - loss: 0.3395 - accuracy: 0.8934\n",
      "Epoch 14/75\n",
      "16102/16102 [==============================] - 2s 109us/step - loss: 0.3395 - accuracy: 0.8934\n",
      "Epoch 15/75\n",
      "16102/16102 [==============================] - 2s 107us/step - loss: 0.3395 - accuracy: 0.8934\n",
      "Epoch 16/75\n",
      "16102/16102 [==============================] - 2s 107us/step - loss: 0.3395 - accuracy: 0.8934\n",
      "Epoch 17/75\n",
      "16102/16102 [==============================] - 2s 106us/step - loss: 0.3395 - accuracy: 0.8934\n",
      "Epoch 18/75\n",
      "16102/16102 [==============================] - 2s 111us/step - loss: 0.3395 - accuracy: 0.8934\n",
      "Epoch 19/75\n",
      "16102/16102 [==============================] - 2s 112us/step - loss: 0.3395 - accuracy: 0.8934\n",
      "Epoch 20/75\n",
      "16102/16102 [==============================] - 2s 109us/step - loss: 0.3395 - accuracy: 0.8934\n",
      "Epoch 21/75\n",
      "16102/16102 [==============================] - 2s 107us/step - loss: 0.3395 - accuracy: 0.8934\n",
      "Epoch 22/75\n",
      "16102/16102 [==============================] - 2s 105us/step - loss: 0.3395 - accuracy: 0.8934\n",
      "Epoch 23/75\n",
      "16102/16102 [==============================] - 2s 105us/step - loss: 0.3395 - accuracy: 0.8934\n",
      "Epoch 24/75\n",
      "16102/16102 [==============================] - 2s 107us/step - loss: 0.3395 - accuracy: 0.8934\n",
      "Epoch 25/75\n",
      "16102/16102 [==============================] - 2s 115us/step - loss: 0.3395 - accuracy: 0.8934\n",
      "Epoch 26/75\n",
      "16102/16102 [==============================] - 2s 122us/step - loss: 0.3395 - accuracy: 0.8934\n",
      "Epoch 27/75\n",
      "16102/16102 [==============================] - 2s 115us/step - loss: 0.3395 - accuracy: 0.8934\n",
      "Epoch 28/75\n",
      "16102/16102 [==============================] - 2s 110us/step - loss: 0.3395 - accuracy: 0.8934\n",
      "Epoch 29/75\n",
      "16102/16102 [==============================] - 2s 113us/step - loss: 0.3395 - accuracy: 0.8934\n",
      "Epoch 30/75\n",
      "16102/16102 [==============================] - 2s 110us/step - loss: 0.3395 - accuracy: 0.8934\n",
      "Epoch 31/75\n",
      "16102/16102 [==============================] - 2s 106us/step - loss: 0.3394 - accuracy: 0.8934\n",
      "Epoch 32/75\n",
      "16102/16102 [==============================] - 2s 112us/step - loss: 0.3395 - accuracy: 0.8934\n",
      "Epoch 33/75\n",
      "16102/16102 [==============================] - 2s 113us/step - loss: 0.3395 - accuracy: 0.8934\n",
      "Epoch 34/75\n",
      "16102/16102 [==============================] - 2s 110us/step - loss: 0.3395 - accuracy: 0.8934\n",
      "Epoch 35/75\n",
      "16102/16102 [==============================] - 2s 108us/step - loss: 0.3395 - accuracy: 0.8934\n",
      "Epoch 36/75\n",
      "16102/16102 [==============================] - 2s 110us/step - loss: 0.3394 - accuracy: 0.8934\n",
      "Epoch 37/75\n",
      "16102/16102 [==============================] - 2s 109us/step - loss: 0.3395 - accuracy: 0.8934\n",
      "Epoch 38/75\n",
      "16102/16102 [==============================] - 2s 111us/step - loss: 0.3395 - accuracy: 0.8934\n",
      "Epoch 39/75\n",
      "16102/16102 [==============================] - 2s 109us/step - loss: 0.3395 - accuracy: 0.8934\n",
      "Epoch 40/75\n",
      "16102/16102 [==============================] - 2s 112us/step - loss: 0.3394 - accuracy: 0.8934\n",
      "Epoch 41/75\n",
      "16102/16102 [==============================] - 2s 111us/step - loss: 0.3395 - accuracy: 0.8934\n",
      "Epoch 42/75\n",
      "16102/16102 [==============================] - 2s 145us/step - loss: 0.3395 - accuracy: 0.8934\n",
      "Epoch 43/75\n",
      "16102/16102 [==============================] - 2s 109us/step - loss: 0.3395 - accuracy: 0.8934\n",
      "Epoch 44/75\n",
      "16102/16102 [==============================] - 2s 109us/step - loss: 0.3395 - accuracy: 0.8934\n",
      "Epoch 45/75\n",
      "16102/16102 [==============================] - 2s 115us/step - loss: 0.3395 - accuracy: 0.8934\n",
      "Epoch 46/75\n",
      "16102/16102 [==============================] - 2s 121us/step - loss: 0.3395 - accuracy: 0.8934\n",
      "Epoch 47/75\n",
      "16102/16102 [==============================] - 2s 132us/step - loss: 0.3395 - accuracy: 0.8934\n",
      "Epoch 48/75\n",
      "16102/16102 [==============================] - 2s 145us/step - loss: 0.3395 - accuracy: 0.8934\n",
      "Epoch 49/75\n",
      "16102/16102 [==============================] - 2s 130us/step - loss: 0.3395 - accuracy: 0.8934\n",
      "Epoch 50/75\n",
      "16102/16102 [==============================] - 2s 119us/step - loss: 0.3395 - accuracy: 0.8934\n",
      "Epoch 51/75\n",
      "16102/16102 [==============================] - 2s 148us/step - loss: 0.3395 - accuracy: 0.8934\n",
      "Epoch 52/75\n",
      "16102/16102 [==============================] - 2s 141us/step - loss: 0.3395 - accuracy: 0.8934\n",
      "Epoch 53/75\n",
      "16102/16102 [==============================] - 2s 138us/step - loss: 0.3395 - accuracy: 0.8934\n",
      "Epoch 54/75\n",
      "16102/16102 [==============================] - 2s 137us/step - loss: 0.3395 - accuracy: 0.8934\n",
      "Epoch 55/75\n",
      "16102/16102 [==============================] - 2s 118us/step - loss: 0.3395 - accuracy: 0.8934\n",
      "Epoch 56/75\n",
      "16102/16102 [==============================] - 2s 128us/step - loss: 0.3395 - accuracy: 0.8934\n",
      "Epoch 57/75\n",
      "16102/16102 [==============================] - 2s 116us/step - loss: 0.3395 - accuracy: 0.8934\n",
      "Epoch 58/75\n",
      "16102/16102 [==============================] - 2s 115us/step - loss: 0.3394 - accuracy: 0.8934\n",
      "Epoch 59/75\n",
      "16102/16102 [==============================] - 2s 114us/step - loss: 0.3395 - accuracy: 0.8934\n",
      "Epoch 60/75\n",
      "16102/16102 [==============================] - 2s 125us/step - loss: 0.3395 - accuracy: 0.8934\n",
      "Epoch 61/75\n",
      "16102/16102 [==============================] - 2s 123us/step - loss: 0.3395 - accuracy: 0.8934\n",
      "Epoch 62/75\n",
      "16102/16102 [==============================] - 2s 115us/step - loss: 0.3395 - accuracy: 0.8934\n",
      "Epoch 63/75\n",
      "16102/16102 [==============================] - 2s 115us/step - loss: 0.3394 - accuracy: 0.8934\n",
      "Epoch 64/75\n",
      "16102/16102 [==============================] - 2s 136us/step - loss: 0.3395 - accuracy: 0.8934\n",
      "Epoch 65/75\n",
      "16102/16102 [==============================] - 2s 128us/step - loss: 0.3394 - accuracy: 0.8934\n",
      "Epoch 66/75\n",
      "16102/16102 [==============================] - 2s 127us/step - loss: 0.3395 - accuracy: 0.8934\n",
      "Epoch 67/75\n",
      "16102/16102 [==============================] - 2s 114us/step - loss: 0.3395 - accuracy: 0.8934\n",
      "Epoch 68/75\n",
      "16102/16102 [==============================] - 2s 114us/step - loss: 0.3394 - accuracy: 0.8934\n",
      "Epoch 69/75\n",
      "16102/16102 [==============================] - 2s 114us/step - loss: 0.3395 - accuracy: 0.8934\n",
      "Epoch 70/75\n",
      "16102/16102 [==============================] - 2s 114us/step - loss: 0.3395 - accuracy: 0.8934\n",
      "Epoch 71/75\n",
      "16102/16102 [==============================] - 2s 116us/step - loss: 0.3395 - accuracy: 0.8934\n",
      "Epoch 72/75\n",
      "16102/16102 [==============================] - 2s 114us/step - loss: 0.3395 - accuracy: 0.8934\n",
      "Epoch 73/75\n",
      "16102/16102 [==============================] - 2s 113us/step - loss: 0.3395 - accuracy: 0.8934\n",
      "Epoch 74/75\n",
      "16102/16102 [==============================] - 2s 115us/step - loss: 0.3395 - accuracy: 0.8934\n",
      "Epoch 75/75\n",
      "16102/16102 [==============================] - 2s 114us/step - loss: 0.3395 - accuracy: 0.8934\n"
     ]
    },
    {
     "data": {
      "text/plain": [
       "<keras.callbacks.callbacks.History at 0x2297ba1a488>"
      ]
     },
     "execution_count": 22,
     "metadata": {},
     "output_type": "execute_result"
    }
   ],
   "source": [
    "classifier.compile(loss='binary_crossentropy',\n",
    "              optimizer='adam',\n",
    "              metrics=['accuracy'])\n",
    "                   \n",
    "classifier.fit(X_train, y_train, epochs=75, batch_size=10, verbose=1)"
   ]
  },
  {
   "cell_type": "markdown",
   "metadata": {},
   "source": [
    "### Predicting"
   ]
  },
  {
   "cell_type": "raw",
   "metadata": {},
   "source": [
    "Now, lets predict with the test set prepared previously"
   ]
  },
  {
   "cell_type": "code",
   "execution_count": 23,
   "metadata": {},
   "outputs": [],
   "source": [
    "y_pred = classifier.predict(X_test)\n",
    "#print(np.concatenate((y_pred.reshape(len(y_pred),1), y_test.reshape(len(y_test),1)),1))"
   ]
  },
  {
   "cell_type": "markdown",
   "metadata": {},
   "source": [
    "### Evaluating the model"
   ]
  },
  {
   "cell_type": "raw",
   "metadata": {},
   "source": [
    "To evaluate, we will compute the following:\n",
    "The confusion matrix: is a breakdown of predictions into a table showing correct predictions and the types of incorrect                               predictions made. Ideally, you will only see numbers in the diagonal, which means that all your                                 predictions were correct!\n",
    "Precision: is a measure of a classifier’s exactness. The higher the precision, the more accurate the classifier.\n",
    "Recall: is a measure of a classifier’s completeness. The higher the recall, the more cases the classifier covers.\n",
    "The F1 Score or F-score: is a weighted average of precision and recall.\n",
    "The Kappa or Cohen’s kappa: is the classification accuracy normalized by the imbalance of the classes in the data."
   ]
  },
  {
   "cell_type": "code",
   "execution_count": 24,
   "metadata": {},
   "outputs": [
    {
     "name": "stdout",
     "output_type": "stream",
     "text": [
      "5368/5368 [==============================] - 0s 19us/step\n",
      "The loss of the model is: 0.34 and the accuracy is: 89.53%\n"
     ]
    }
   ],
   "source": [
    "#Lets begin with the scores of the model\n",
    "loss, accuracy = classifier.evaluate(X_test, y_test,verbose=1)\n",
    "print(f'The loss of the model is: {round(loss,2)} and the accuracy is: {round(accuracy,4)*100}%')"
   ]
  },
  {
   "cell_type": "raw",
   "metadata": {},
   "source": [
    "#Alternately we can also compute the accuracy from confusion matrix also"
   ]
  },
  {
   "cell_type": "code",
   "execution_count": 25,
   "metadata": {},
   "outputs": [
    {
     "name": "stdout",
     "output_type": "stream",
     "text": [
      "The overall accuracy is: 89.53%\n"
     ]
    }
   ],
   "source": [
    "# Import the modules from `sklearn.metrics`\n",
    "from sklearn.metrics import confusion_matrix, precision_score, recall_score, f1_score, cohen_kappa_score\n",
    "\n",
    "# Confusion matrix\n",
    "y_preds = y_pred>0.2\n",
    "cm = confusion_matrix(y_test, y_preds)\n",
    "overall_accu = (cm[0,0]+cm[1,1])/(cm[0,0]+cm[0,1]+cm[1,0]+cm[1,1])\n",
    "print(f'The overall accuracy is: {round(overall_accu,4)*100}%')"
   ]
  },
  {
   "cell_type": "code",
   "execution_count": 26,
   "metadata": {},
   "outputs": [
    {
     "data": {
      "text/plain": [
       "1.0"
      ]
     },
     "execution_count": 26,
     "metadata": {},
     "output_type": "execute_result"
    }
   ],
   "source": [
    "# Precision \n",
    "precision_score(y_test, y_preds, zero_division = True)"
   ]
  },
  {
   "cell_type": "code",
   "execution_count": 27,
   "metadata": {},
   "outputs": [
    {
     "data": {
      "text/plain": [
       "0.0"
      ]
     },
     "execution_count": 27,
     "metadata": {},
     "output_type": "execute_result"
    }
   ],
   "source": [
    "# Recall\n",
    "recall_score(y_test, y_preds, zero_division = True)"
   ]
  },
  {
   "cell_type": "code",
   "execution_count": 28,
   "metadata": {},
   "outputs": [
    {
     "data": {
      "text/plain": [
       "0.0"
      ]
     },
     "execution_count": 28,
     "metadata": {},
     "output_type": "execute_result"
    }
   ],
   "source": [
    "# F1 score\n",
    "f1_score(y_test,y_preds, zero_division = True)"
   ]
  },
  {
   "cell_type": "code",
   "execution_count": 29,
   "metadata": {},
   "outputs": [
    {
     "data": {
      "text/plain": [
       "0.0"
      ]
     },
     "execution_count": 29,
     "metadata": {},
     "output_type": "execute_result"
    }
   ],
   "source": [
    "# Cohen's kappa\n",
    "cohen_kappa_score(y_test, y_preds)"
   ]
  },
  {
   "cell_type": "raw",
   "metadata": {},
   "source": [
    "Now, lets consider few scenario in order to predict the probability of accidents based on some criteria"
   ]
  },
  {
   "cell_type": "markdown",
   "metadata": {},
   "source": [
    "## Some Case Studies "
   ]
  },
  {
   "cell_type": "markdown",
   "metadata": {},
   "source": [
    "### Case Study 1 "
   ]
  },
  {
   "cell_type": "code",
   "execution_count": 34,
   "metadata": {},
   "outputs": [
    {
     "name": "stdout",
     "output_type": "stream",
     "text": [
      "There is tend to death at the said condition [[False]]\n"
     ]
    }
   ],
   "source": [
    "#Analytical Questions\n",
    "#District(1),Imperial_Circle(2), Community(3), Month(5),Weekday(6),Hour(7), Light Condition(18) and Road Condition(19) and Severity\n",
    "#Q1. Which sort of accident occur in imperial circle 3, community 5 of district 4 at 11 am on saturday of July at morning when the road \n",
    "#is dry?\n",
    "\"\"\"Solution:\n",
    "    District - 4 ---[1,0,0,0,0,1,0]\n",
    "    Imperial Circle - 3\n",
    "    Community - 5\n",
    "    Month - July - 7 --- [1,0,0,0,0,0,0,0,0,1,0,0]\n",
    "    Weekday - Weekend - [0,0,0,0,0,0,0,0]\n",
    "    Hour - 11\n",
    "    Light Condition - Morning - 1 - [1]\n",
    "    Road Condition - Dry - 0 - [0]\n",
    "    \"\"\"\n",
    "test_data = [4,3,5,7,7,11,1,0]\n",
    "test_pred = classifier.predict(scaler.transform([test_data]))\n",
    "#new_data = [1.0,0,0,0,0,1,0,1,0,0,0,0,0,0,0,0,1,0,0,0,0,0,0,0,0,0,0,1,0]\n",
    "#new_pred = classifier.predict(sc.transform(np.array([new_data])))\n",
    "test_pred = (test_pred>0.2)\n",
    "print(f'There is tend to death at the said condition {test_pred}')\n",
    "#There is tend to death at the said condition [[False]]"
   ]
  },
  {
   "cell_type": "code",
   "execution_count": 32,
   "metadata": {},
   "outputs": [
    {
     "data": {
      "text/plain": [
       "array([[0.10703121]], dtype=float32)"
      ]
     },
     "execution_count": 32,
     "metadata": {},
     "output_type": "execute_result"
    }
   ],
   "source": [
    "test_pred"
   ]
  },
  {
   "cell_type": "markdown",
   "metadata": {},
   "source": [
    "### Case Study 2 "
   ]
  },
  {
   "cell_type": "code",
   "execution_count": 35,
   "metadata": {},
   "outputs": [
    {
     "name": "stdout",
     "output_type": "stream",
     "text": [
      "The probability of death at the said condition is: [[10.703121]]\n"
     ]
    }
   ],
   "source": [
    "#Analytical Questions\n",
    "#District(1),Imperial_Circle(2), Community(3), Month(5),Weekday(6),Hour(7), Light Condition(18) and Road Condition(19) and Severity\n",
    "#Q2. What is the probability of death on the dry road of district 3, imperial circle 2 of community 1 \n",
    "#on monday morning at 8am of January?\n",
    "\"\"\"Solution:\n",
    "    District - 3 ---\n",
    "    Imperial Circle - 3\n",
    "    Community - 5\n",
    "    Month - 1 -\n",
    "    Weekday - 2 - \n",
    "    Hour - 8\n",
    "    Light Condition - Morning - 1 - [1]\n",
    "    Road Condition - Dry - 0 - [0]\n",
    "    \"\"\"\n",
    "test_data = [3,3,5,1,2,8,1,0]\n",
    "test_pred = classifier.predict(scaler.transform([test_data]))\n",
    "#new_data = [1.0,0,0,0,0,1,0,1,0,0,0,0,0,0,0,0,1,0,0,0,0,0,0,0,0,0,0,1,0]\n",
    "#test_pred = classifier.predict(sc.transform(np.array([new_data])))\n",
    "#test_pred = (new_pred>0.2)\n",
    "print(f'The probability of death at the said condition is: {test_pred*100}')\n",
    "#10.70%"
   ]
  },
  {
   "cell_type": "markdown",
   "metadata": {},
   "source": [
    "# Case Study 3 "
   ]
  },
  {
   "cell_type": "code",
   "execution_count": 37,
   "metadata": {},
   "outputs": [],
   "source": [
    "#Analytical Questions\n",
    "#District(1),Imperial_Circle(2), Community(3), Month(5),Weekday(6),Hour(7), Light Condition(18) and Road Condition(19) and Severity\n",
    "#Q3. What is the probability of death during daytime at 12:00 in community 2, imperial circle 4 of district 6 during June wednesday \n",
    "#when the road is wet?\n",
    "\"\"\"Solution:\n",
    "    District - 6 ---\n",
    "    Imperial Circle - 4\n",
    "    Community - 2\n",
    "    Month - 6 -\n",
    "    Weekday - 4 - \n",
    "    Hour - 12\n",
    "    Light Condition - Day - 0 - [0]\n",
    "    Road Condition - Wet - 1 - [1]\n",
    "    \"\"\"\n",
    "test_data = [6,4,2,6,4,12,0,1]\n",
    "test_pred = classifier.predict(scaler.transform([test_data]))\n",
    "#new_data = [1.0,0,0,0,0,1,0,1,0,0,0,0,0,0,0,0,1,0,0,0,0,0,0,0,0,0,0,1,0]\n",
    "#test_pred = classifier.predict(sc.transform(np.array([new_data])))\n",
    "#test_pred = (new_pred>0.2)\n",
    "print(f'The probability of death at the said condition is: {test_pred*100}')\n",
    "#13.1%%"
   ]
  },
  {
   "cell_type": "raw",
   "metadata": {},
   "source": [
    "Thus binary accident modeling can be done using Artificial Neural Networks. This model can be used to predict the probability of accident severity to occur. "
   ]
  },
  {
   "cell_type": "markdown",
   "metadata": {},
   "source": [
    "# Artificial Neural Network for Multiple Classification of Accident Data"
   ]
  },
  {
   "cell_type": "raw",
   "metadata": {},
   "source": [
    "In this model, we build an artificial neural network (ANN) for multi-class classification of accident data. We now implement previously built model into another data with some recommended change to make multi-class classification.  Change of data is not mandatory but to show the model can work on different data, we will use another data obtained from EUSKA."
   ]
  },
  {
   "cell_type": "raw",
   "metadata": {},
   "source": [
    "Firstly, we begin with some adjustment with the data and understanding the relation between the variables."
   ]
  },
  {
   "cell_type": "code",
   "execution_count": 124,
   "metadata": {},
   "outputs": [],
   "source": [
    "# Importing the libraries\n",
    "import numpy as np\n",
    "import matplotlib.pyplot as plt\n",
    "import pandas as pd\n",
    "\n",
    "# Import the dataset\n",
    "dataset = pd.read_csv('Bremen_modified.csv')\n",
    "#Fill the empty spaces and integer to represent 'NA'.\n",
    "#In this data it has some null values in 'Traffic_Light_System' column.\n",
    "#Hence we represent it with 2.\n",
    "#Traffic light system: 2--->NA, 1--->Working and 0--->Out of order\n",
    "dataset['Traffic_Light_System'].fillna(2, inplace = True)\n",
    "dataset.loc[dataset['Traffic_Light_System'] == 8] = 1\n",
    "dataset.loc[dataset['Traffic_Light_System'] == 9] = 0\n"
   ]
  },
  {
   "cell_type": "markdown",
   "metadata": {},
   "source": [
    "## A. Tool for Correlation between variables"
   ]
  },
  {
   "cell_type": "raw",
   "metadata": {},
   "source": [
    "Before going for modeling, lets study the relationship between the variables involved through correlation diagram."
   ]
  },
  {
   "cell_type": "code",
   "execution_count": 125,
   "metadata": {},
   "outputs": [],
   "source": [
    "corr_data = dataset[['month','lighting_conditions', 'road_conditions', 'location', 'street_class', 'day_of_week', 'hour_cat', 'season', 'Traffic_Light_System','accident_category']]\n"
   ]
  },
  {
   "cell_type": "code",
   "execution_count": 126,
   "metadata": {},
   "outputs": [
    {
     "data": {
      "text/plain": [
       "array([5, 3, 1, 4, 2, 6, 0], dtype=int64)"
      ]
     },
     "execution_count": 126,
     "metadata": {},
     "output_type": "execute_result"
    }
   ],
   "source": [
    "dataset['accident_category'].unique()"
   ]
  },
  {
   "cell_type": "code",
   "execution_count": 127,
   "metadata": {},
   "outputs": [
    {
     "data": {
      "image/png": "[encoded data removed]",
      "text/plain": [
       "<Figure size 432x288 with 2 Axes>"
      ]
     },
     "metadata": {
      "needs_background": "light"
     },
     "output_type": "display_data"
    }
   ],
   "source": [
    "#First lets import the library\n",
    "import seaborn as sns\n",
    "corr = corr_data.corr()\n",
    "sns.heatmap(corr, \n",
    "            xticklabels=corr.columns.values,\n",
    "            yticklabels=corr.columns.values)\n",
    "plt.show()"
   ]
  },
  {
   "cell_type": "raw",
   "metadata": {},
   "source": [
    "The diagram shows that accident severity has negative relation with traffic light system, season, hour, weekday and positive relation with light and road conditions."
   ]
  },
  {
   "cell_type": "markdown",
   "metadata": {},
   "source": [
    "## B. Tools for Preprocessing of variables"
   ]
  },
  {
   "cell_type": "raw",
   "metadata": {},
   "source": [
    "Select the variables for training and testing ahead."
   ]
  },
  {
   "cell_type": "code",
   "execution_count": 136,
   "metadata": {},
   "outputs": [
    {
     "data": {
      "text/plain": [
       "Index(['month', 'lighting_conditions', 'road_conditions', 'location',\n",
       "       'street_class', 'accident_category', 'day_of_week', 'vacation',\n",
       "       'hour_cat', 'season', 'Traffic_Light_System'],\n",
       "      dtype='object')"
      ]
     },
     "execution_count": 136,
     "metadata": {},
     "output_type": "execute_result"
    }
   ],
   "source": [
    "#Take only those variables which can have effect to accident, \n",
    "#Month(3),Light Condition(9) and Road Condition(10), location(12), \n",
    "#street_class(13),Weekday(37), vacation(39), hour_cat(50), season(51), traffic_light_system(52)\n",
    "check = dataset.iloc[:, [3,9,10,12,13,14,37,39, 50, 51, 52]].columns \n",
    "X_ = dataset.iloc[:, [3,9,10,12,13,37,50,51,52]].values \n",
    "y_ = dataset.iloc[:, [14]].values\n",
    "check"
   ]
  },
  {
   "cell_type": "code",
   "execution_count": 138,
   "metadata": {},
   "outputs": [
    {
     "name": "stdout",
     "output_type": "stream",
     "text": [
      "float64\n",
      "int64\n"
     ]
    }
   ],
   "source": [
    "#Check the types of the variables\n",
    "print(X_.dtype)\n",
    "print(y_.dtype)"
   ]
  },
  {
   "cell_type": "markdown",
   "metadata": {},
   "source": [
    "### Convert categorical values into integers"
   ]
  },
  {
   "cell_type": "raw",
   "metadata": {},
   "source": [
    "We have to select only those independent variables that influence dependent variables and should check the types of these variables. String variables should be converted to floating values, if any. In our data there are no string values. Had there been string values, we would have converted the column using: \n",
    "\n",
    "ct = ColumnTransformer([('encoder', OneHotEncoder(), [<Index of column>])], remainder='passthrough')\n",
    "X[:, <Index of column>:] = np.array(ct.fit_transform(X[:, <Index of column>:]), dtype=np.float)\n"
   ]
  },
  {
   "cell_type": "markdown",
   "metadata": {},
   "source": [
    "### Fill out the missing values"
   ]
  },
  {
   "cell_type": "raw",
   "metadata": {},
   "source": [
    "Since the variables are found to be floats and integers, it is fine to proceed. Now check for null values and if any fill it with the column mean or median."
   ]
  },
  {
   "cell_type": "raw",
   "metadata": {},
   "source": [
    "# Fill out the missing values with their mean\n",
    "\n",
    "from sklearn.preprocessing import Imputer\n",
    "imputer = Imputer(missing_values = 'NaN', strategy = 'mean', axis = 0)\n",
    "imputer.fit(X[:, 1:3])\n",
    "X[:, <range of columns to check for>] = imputer.transform(X[:, <range of columns to check for>])"
   ]
  },
  {
   "cell_type": "markdown",
   "metadata": {},
   "source": [
    "### Convert the dependent variable into categories "
   ]
  },
  {
   "cell_type": "raw",
   "metadata": {},
   "source": [
    "Check the categories of the dependent variable"
   ]
  },
  {
   "cell_type": "code",
   "execution_count": 141,
   "metadata": {},
   "outputs": [
    {
     "data": {
      "text/plain": [
       "Counter({5: 21715, 3: 4831, 1: 6783, 4: 730, 2: 661, 6: 191, 0: 361})"
      ]
     },
     "execution_count": 141,
     "metadata": {},
     "output_type": "execute_result"
    }
   ],
   "source": [
    "import collections\n",
    "\n",
    "a = np.array(dataset)\n",
    "b = collections.Counter(dataset['accident_category'])\n",
    "b"
   ]
  },
  {
   "cell_type": "raw",
   "metadata": {},
   "source": [
    "So there are seven categories in the dataset: \n",
    "0 = NA\n",
    "1 = accident with fatalities\n",
    "2 = accident with serious injuries\n",
    "3 = accident with minor injuries\n",
    "4 = serious accident withdamage\n",
    "5 = other property damage accident without exposure to alcohol\n",
    "6 = other property damage accident under the influence of alcohol"
   ]
  },
  {
   "cell_type": "raw",
   "metadata": {},
   "source": [
    "Now we use LabelEncoder class to encode the categories."
   ]
  },
  {
   "cell_type": "code",
   "execution_count": 142,
   "metadata": {},
   "outputs": [],
   "source": [
    "#Import the required libraries\n",
    "from sklearn.compose import ColumnTransformer\n",
    "from sklearn.preprocessing import LabelEncoder, OneHotEncoder\n",
    "from keras.utils import np_utils\n",
    "#import sklearn.utils.validation"
   ]
  },
  {
   "cell_type": "code",
   "execution_count": 162,
   "metadata": {},
   "outputs": [],
   "source": [
    "y_ = dataset.iloc[:, [14]].values\n",
    "y_ = y_.ravel()\n",
    "encoder = LabelEncoder()\n",
    "#encoder.fit(y)\n",
    "encoded_y = encoder.fit_transform(y_)\n",
    "# convert integers to dummy variables (i.e. one hot encoded)\n",
    "y_ = np_utils.to_categorical(encoded_y)"
   ]
  },
  {
   "cell_type": "code",
   "execution_count": 165,
   "metadata": {},
   "outputs": [
    {
     "data": {
      "text/plain": [
       "(35272, 9)"
      ]
     },
     "execution_count": 165,
     "metadata": {},
     "output_type": "execute_result"
    }
   ],
   "source": [
    "y_.shape\n",
    "X_.shape"
   ]
  },
  {
   "cell_type": "markdown",
   "metadata": {},
   "source": [
    "## C. Tools for Modeling"
   ]
  },
  {
   "cell_type": "markdown",
   "metadata": {},
   "source": [
    "## Split the data into train and test"
   ]
  },
  {
   "cell_type": "raw",
   "metadata": {},
   "source": [
    "It is necessary to split the data into two sections before proceeding for modeling. Also there is a question that whether data standardizations should be done before or after splitting. It should be kept in mind that if scaling is done before splitting then there will be leakage of information between training dataset and testing dataset which makes the model testing meaningless. Hence, there should be no doubt that data scaling should be done only after splitting the dataset."
   ]
  },
  {
   "cell_type": "raw",
   "metadata": {},
   "source": [
    "It is normal practice to split the dataset in the ration of 80:20 between training set and testing set. random_state varible will split the data with same random effect, so if this variable is not set then there is no point of splitting."
   ]
  },
  {
   "cell_type": "code",
   "execution_count": 166,
   "metadata": {},
   "outputs": [],
   "source": [
    "from sklearn.model_selection import train_test_split\n",
    "X_train, X_test, y_train, y_test = train_test_split(X_, y_, test_size = 0.2, random_state = 0)"
   ]
  },
  {
   "cell_type": "raw",
   "metadata": {},
   "source": [
    "Now is the time for standardizing the dataset. However, in data science practiotioners are often in confusion whether to standardize or normalize the data. It should be noted that data standardization works for all sorts of data and gives the range of values generally from -3 to +3 while data normalization is fine for only those data with normal distribution and it gives range betwen 0 and 1. So, as a rule of thumb we will do data standardization here. "
   ]
  },
  {
   "cell_type": "code",
   "execution_count": 167,
   "metadata": {},
   "outputs": [],
   "source": [
    "# Import `StandardScaler` from `sklearn.preprocessing`\n",
    "from sklearn.preprocessing import StandardScaler\n",
    "\n",
    "# Define the scaler \n",
    "scaler = StandardScaler().fit(X_train)\n",
    "\n",
    "# Scale the train set\n",
    "X_train = scaler.transform(X_train)\n",
    "\n",
    "# Scale the test set\n",
    "X_test = scaler.transform(X_test)\n",
    "#It should be kept in mind never to use fit() function for testing set. \n",
    "#If it is used, fit() method will create a new scaler for testing set also."
   ]
  },
  {
   "cell_type": "code",
   "execution_count": 168,
   "metadata": {},
   "outputs": [
    {
     "name": "stdout",
     "output_type": "stream",
     "text": [
      "(28217, 9)\n",
      "(7055, 9)\n",
      "(28217, 7)\n",
      "(7055, 7)\n"
     ]
    }
   ],
   "source": [
    "#See the shape of training and testing set\n",
    "print(X_train.shape)\n",
    "print(X_test.shape)\n",
    "print(y_train.shape)\n",
    "print(y_test.shape)"
   ]
  },
  {
   "cell_type": "markdown",
   "metadata": {},
   "source": [
    "### Building the model"
   ]
  },
  {
   "cell_type": "raw",
   "metadata": {},
   "source": [
    "To build the model, we initilize it with Sequential constructor at first. The parameters for modeling should be chosen based on the input data and output data. Number of hidden layers are chosen either:\n",
    "    a. Between the number of input and output data\n",
    "    b. Hit and trial basis for which the model performs the best."
   ]
  },
  {
   "cell_type": "raw",
   "metadata": {},
   "source": [
    "Below is the explanation of our chosen parameters:\n",
    "input_dim = 9: There are nine training variables in our data\n",
    "'activation' of hidden layers  = 'relu': To remove the linearity between variables.\n",
    "kernel_initializer = 'uniform' : To uniformly initilize the model\n",
    "units = 8 : Rule of thumb is (input variables + output variables)/2. Not mandatory though but in this case we followed this                 rule.\n",
    "'activation' of output layer = 'sigmoid': Our output is binary so we chose 'sigmoid'. Had it been multi-class, we would have                                             chose 'softmax'"
   ]
  },
  {
   "cell_type": "code",
   "execution_count": 169,
   "metadata": {},
   "outputs": [],
   "source": [
    "#Importing keras libraries and packages\n",
    "import keras\n",
    "from keras.models import Sequential\n",
    "from keras.layers import Dense, Dropout"
   ]
  },
  {
   "cell_type": "code",
   "execution_count": 170,
   "metadata": {},
   "outputs": [],
   "source": [
    "# Initialize the constructor\n",
    "classifier = Sequential()\n",
    "\n",
    "# Add an input+hidden layer \n",
    "classifier.add(Dense(8, kernel_initializer = 'uniform', activation = 'relu', input_dim = 9))\n",
    "\n",
    "# Add first hidden layer \n",
    "classifier.add(Dense(8, kernel_initializer = 'uniform', activation = 'relu'))\n",
    "#model.add(Dropout(rate = 0.3))\n",
    "\n",
    "# Add second hidden layer \n",
    "classifier.add(Dense(8, kernel_initializer = 'uniform', activation = 'relu'))\n",
    "#model.add(Dropout(rate = 0.3))\n",
    "\n",
    "# Add third hidden layer \n",
    "#classifier.add(Dense(5, kernel_initializer = 'uniform', activation = 'relu'))\n",
    "#model.add(Dropout(rate = 0.3))\n",
    "\n",
    "# Add an output layer \n",
    "classifier.add(Dense(7, kernel_initializer = 'uniform', activation = 'sigmoid'))\n"
   ]
  },
  {
   "cell_type": "raw",
   "metadata": {},
   "source": [
    "Know the properties of model we are building"
   ]
  },
  {
   "cell_type": "code",
   "execution_count": 172,
   "metadata": {},
   "outputs": [
    {
     "name": "stdout",
     "output_type": "stream",
     "text": [
      "Model: \"sequential_2\"\n",
      "_________________________________________________________________\n",
      "Layer (type)                 Output Shape              Param #   \n",
      "=================================================================\n",
      "dense_5 (Dense)              (None, 8)                 80        \n",
      "_________________________________________________________________\n",
      "dense_6 (Dense)              (None, 8)                 72        \n",
      "_________________________________________________________________\n",
      "dense_7 (Dense)              (None, 8)                 72        \n",
      "_________________________________________________________________\n",
      "dense_8 (Dense)              (None, 7)                 63        \n",
      "=================================================================\n",
      "Total params: 287\n",
      "Trainable params: 287\n",
      "Non-trainable params: 0\n",
      "_________________________________________________________________\n"
     ]
    },
    {
     "data": {
      "text/plain": [
       "[array([[-0.03611917,  0.01009812, -0.04977904,  0.02509824, -0.0389112 ,\n",
       "          0.03268832, -0.00483315, -0.0135016 ],\n",
       "        [-0.01707311,  0.03573778,  0.02328708,  0.04940968,  0.01049651,\n",
       "          0.03830342,  0.00475037,  0.01743997],\n",
       "        [ 0.01816064,  0.03972795, -0.0421914 ,  0.03257842, -0.0324412 ,\n",
       "         -0.03615168,  0.01488013,  0.02419344],\n",
       "        [-0.01338985,  0.01110134,  0.04950127,  0.02190221,  0.0347605 ,\n",
       "          0.00556065, -0.03170203, -0.01818625],\n",
       "        [-0.03367292,  0.04531637, -0.04982729,  0.01281477, -0.00927939,\n",
       "          0.0477411 ,  0.04094234,  0.0462489 ],\n",
       "        [-0.01975135, -0.01608164,  0.01609418, -0.00566014,  0.01588279,\n",
       "         -0.01185561, -0.00143613,  0.04882767],\n",
       "        [-0.04247141, -0.04345937, -0.00649829,  0.04247237,  0.02131499,\n",
       "          0.01816144, -0.01973163,  0.02055135],\n",
       "        [-0.02223524, -0.00251583, -0.01792654,  0.0450976 ,  0.02255063,\n",
       "          0.00793964, -0.01843362, -0.00633808],\n",
       "        [-0.01027837,  0.01223097, -0.00904312, -0.03035114,  0.03470011,\n",
       "          0.04273174, -0.01630713, -0.03635033]], dtype=float32),\n",
       " array([0., 0., 0., 0., 0., 0., 0., 0.], dtype=float32),\n",
       " array([[ 0.01034839,  0.01958777,  0.00020424,  0.01590503, -0.02444935,\n",
       "         -0.00807264, -0.02242692, -0.03364766],\n",
       "        [ 0.01656114,  0.04311717,  0.00199388,  0.02469516,  0.04583062,\n",
       "          0.01848665, -0.02498519, -0.00348141],\n",
       "        [-0.01356027, -0.01747279,  0.0155785 , -0.00322523,  0.04649551,\n",
       "         -0.03169881, -0.04846491, -0.02314123],\n",
       "        [-0.04718485,  0.04494995,  0.00758287,  0.00171553,  0.00515334,\n",
       "          0.00194596,  0.03653443, -0.00117391],\n",
       "        [ 0.03510238,  0.04926323,  0.03981011, -0.00674213,  0.04391729,\n",
       "          0.01325777, -0.03476048,  0.04462688],\n",
       "        [-0.03147683, -0.04702077, -0.02950276,  0.02897212,  0.02539775,\n",
       "          0.01414632, -0.04149635, -0.03629265],\n",
       "        [-0.01045557,  0.03796467, -0.02872816,  0.03297279,  0.00920569,\n",
       "          0.00091555, -0.01978397,  0.02030536],\n",
       "        [ 0.0003469 ,  0.02817288,  0.00558575,  0.01351135, -0.03124975,\n",
       "         -0.01199729,  0.00937079,  0.0113428 ]], dtype=float32),\n",
       " array([0., 0., 0., 0., 0., 0., 0., 0.], dtype=float32),\n",
       " array([[-0.0130265 , -0.00677267,  0.04827059,  0.03292442,  0.00160855,\n",
       "          0.04405624,  0.03966621, -0.02898512],\n",
       "        [-0.03016404,  0.0269399 , -0.01158811,  0.02139247, -0.01825299,\n",
       "         -0.01420586,  0.04118944,  0.00543072],\n",
       "        [ 0.03379274, -0.02188777, -0.02023956, -0.04825279, -0.04593548,\n",
       "         -0.04480133,  0.03063628,  0.00332823],\n",
       "        [ 0.00361856,  0.02491543,  0.0407218 ,  0.03964126,  0.0143888 ,\n",
       "         -0.01529455,  0.0227958 ,  0.02993269],\n",
       "        [ 0.01843521, -0.01516914,  0.00059013,  0.02522344,  0.03937757,\n",
       "          0.03302487, -0.00046781,  0.0381383 ],\n",
       "        [-0.01625932,  0.01230707,  0.0083956 ,  0.00428187,  0.00726507,\n",
       "         -0.01058996, -0.03399323,  0.04700006],\n",
       "        [ 0.03687118,  0.0340803 ,  0.02520627,  0.00300721,  0.03354493,\n",
       "         -0.01792637, -0.04123827, -0.04278949],\n",
       "        [-0.02672896,  0.0356832 ,  0.03495354,  0.02606345,  0.04633116,\n",
       "          0.02343703,  0.01791208,  0.02403703]], dtype=float32),\n",
       " array([0., 0., 0., 0., 0., 0., 0., 0.], dtype=float32),\n",
       " array([[ 0.01175074,  0.03869728,  0.0035928 , -0.01540982, -0.03220332,\n",
       "          0.03947871, -0.03977406],\n",
       "        [-0.04162768,  0.01440188, -0.04679617, -0.04328817, -0.01715151,\n",
       "         -0.03446207,  0.03281475],\n",
       "        [ 0.04698661, -0.0015238 , -0.0083104 ,  0.04263382, -0.02236274,\n",
       "         -0.02208896, -0.02387961],\n",
       "        [-0.019469  ,  0.03352224,  0.03930948, -0.03813427,  0.04812075,\n",
       "         -0.03756503,  0.02083408],\n",
       "        [ 0.02683451, -0.04631928,  0.03748253, -0.02403457,  0.00397905,\n",
       "         -0.00250645, -0.02610718],\n",
       "        [-0.00125331,  0.00264196, -0.0472545 , -0.04116243, -0.019022  ,\n",
       "         -0.00489945,  0.03413593],\n",
       "        [-0.00165461, -0.01702995,  0.00153843, -0.0349615 , -0.03422355,\n",
       "         -0.02331513, -0.04011091],\n",
       "        [ 0.03515616,  0.03670135,  0.02033336, -0.01984805,  0.04221049,\n",
       "          0.04096563, -0.04573157]], dtype=float32),\n",
       " array([0., 0., 0., 0., 0., 0., 0.], dtype=float32)]"
      ]
     },
     "execution_count": 172,
     "metadata": {},
     "output_type": "execute_result"
    }
   ],
   "source": [
    "# Model output shape\n",
    "classifier.output_shape\n",
    "\n",
    "# Model summary\n",
    "classifier.summary()\n",
    "\n",
    "# Model configuration\n",
    "classifier.get_config()\n",
    "\n",
    "# List all weight tensors \n",
    "classifier.get_weights()"
   ]
  },
  {
   "cell_type": "markdown",
   "metadata": {},
   "source": [
    "## Compiling and fitting the model"
   ]
  },
  {
   "cell_type": "raw",
   "metadata": {},
   "source": [
    "Below is an explanation of parameters chosen for compiling and fitting:\n",
    "loss = 'binary_crossentropy':The model is binary\n",
    "optimizer = 'adam': Stochastic gradient descent(SGD) is suitable approach to find the global minimum between over-fitting and under-fitting. 'adam' is a type of SGD\n",
    "metrics = 'accuracy': We want to quantify the performance and accuracy of model.\n",
    "epochs = 50: It is set on hit and trail basis. Can be changed according to the model performance.\n",
    "batch_size = 15: It is set on hit and trail basis. Can be changed according to the model performance.\n",
    "verbose = 1: To see the model progress"
   ]
  },
  {
   "cell_type": "code",
   "execution_count": 173,
   "metadata": {},
   "outputs": [
    {
     "name": "stdout",
     "output_type": "stream",
     "text": [
      "Epoch 1/50\n",
      "28217/28217 [==============================] - 4s 150us/step - loss: 0.8424 - accuracy: 0.73070s - loss: 0.893\n",
      "Epoch 2/50\n",
      "28217/28217 [==============================] - 3s 96us/step - loss: 0.5900 - accuracy: 0.8114\n",
      "Epoch 3/50\n",
      "28217/28217 [==============================] - 3s 96us/step - loss: 0.5771 - accuracy: 0.8179\n",
      "Epoch 4/50\n",
      "28217/28217 [==============================] - 3s 98us/step - loss: 0.5746 - accuracy: 0.8179\n",
      "Epoch 5/50\n",
      "28217/28217 [==============================] - 3s 94us/step - loss: 0.5731 - accuracy: 0.8179\n",
      "Epoch 6/50\n",
      "28217/28217 [==============================] - 3s 97us/step - loss: 0.5727 - accuracy: 0.8179\n",
      "Epoch 7/50\n",
      "28217/28217 [==============================] - 3s 98us/step - loss: 0.5715 - accuracy: 0.8179\n",
      "Epoch 8/50\n",
      "28217/28217 [==============================] - 3s 96us/step - loss: 0.5708 - accuracy: 0.8179\n",
      "Epoch 9/50\n",
      "28217/28217 [==============================] - 3s 95us/step - loss: 0.5705 - accuracy: 0.8179\n",
      "Epoch 10/50\n",
      "28217/28217 [==============================] - 3s 101us/step - loss: 0.5700 - accuracy: 0.8179\n",
      "Epoch 11/50\n",
      "28217/28217 [==============================] - 3s 95us/step - loss: 0.5702 - accuracy: 0.8179\n",
      "Epoch 12/50\n",
      "28217/28217 [==============================] - 3s 102us/step - loss: 0.5696 - accuracy: 0.8179\n",
      "Epoch 13/50\n",
      "28217/28217 [==============================] - 3s 98us/step - loss: 0.5697 - accuracy: 0.8179\n",
      "Epoch 14/50\n",
      "28217/28217 [==============================] - 3s 96us/step - loss: 0.5696 - accuracy: 0.8179\n",
      "Epoch 15/50\n",
      "28217/28217 [==============================] - 3s 95us/step - loss: 0.5691 - accuracy: 0.8179\n",
      "Epoch 16/50\n",
      "28217/28217 [==============================] - 3s 95us/step - loss: 0.5689 - accuracy: 0.8179 0s - los\n",
      "Epoch 17/50\n",
      "28217/28217 [==============================] - 3s 101us/step - loss: 0.5681 - accuracy: 0.8180\n",
      "Epoch 18/50\n",
      "28217/28217 [==============================] - 3s 95us/step - loss: 0.5687 - accuracy: 0.8179 0s - loss: 0.566\n",
      "Epoch 19/50\n",
      "28217/28217 [==============================] - 3s 95us/step - loss: 0.5691 - accuracy: 0.8179 1s - loss: 0.5603  - ETA: 1s - ETA: 0s - loss:\n",
      "Epoch 20/50\n",
      "28217/28217 [==============================] - 3s 101us/step - loss: 0.5687 - accuracy: 0.8179\n",
      "Epoch 21/50\n",
      "28217/28217 [==============================] - 3s 96us/step - loss: 0.5688 - accuracy: 0.8179\n",
      "Epoch 22/50\n",
      "28217/28217 [==============================] - 3s 97us/step - loss: 0.5684 - accuracy: 0.8179 0s - los\n",
      "Epoch 23/50\n",
      "28217/28217 [==============================] - 3s 98us/step - loss: 0.5686 - accuracy: 0.8179\n",
      "Epoch 24/50\n",
      "28217/28217 [==============================] - 3s 104us/step - loss: 0.5687 - accuracy: 0.8179\n",
      "Epoch 25/50\n",
      "28217/28217 [==============================] - 3s 124us/step - loss: 0.5682 - accuracy: 0.8179\n",
      "Epoch 26/50\n",
      "28217/28217 [==============================] - 4s 134us/step - loss: 0.5686 - accuracy: 0.8179\n",
      "Epoch 27/50\n",
      "28217/28217 [==============================] - 4s 131us/step - loss: 0.5682 - accuracy: 0.8180\n",
      "Epoch 28/50\n",
      "28217/28217 [==============================] - 3s 107us/step - loss: 0.5688 - accuracy: 0.8179\n",
      "Epoch 29/50\n",
      "28217/28217 [==============================] - 3s 113us/step - loss: 0.5681 - accuracy: 0.8179\n",
      "Epoch 30/50\n",
      "28217/28217 [==============================] - 3s 107us/step - loss: 0.5679 - accuracy: 0.8179\n",
      "Epoch 31/50\n",
      "28217/28217 [==============================] - 3s 104us/step - loss: 0.5685 - accuracy: 0.8179\n",
      "Epoch 32/50\n",
      "28217/28217 [==============================] - 3s 105us/step - loss: 0.5682 - accuracy: 0.8179\n",
      "Epoch 33/50\n",
      "28217/28217 [==============================] - 3s 113us/step - loss: 0.5681 - accuracy: 0.8179\n",
      "Epoch 34/50\n",
      "28217/28217 [==============================] - 3s 105us/step - loss: 0.5676 - accuracy: 0.8179\n",
      "Epoch 35/50\n",
      "28217/28217 [==============================] - 3s 123us/step - loss: 0.5679 - accuracy: 0.8179\n",
      "Epoch 36/50\n",
      "28217/28217 [==============================] - 3s 105us/step - loss: 0.5677 - accuracy: 0.8179\n",
      "Epoch 37/50\n",
      "28217/28217 [==============================] - 3s 110us/step - loss: 0.5678 - accuracy: 0.8179\n",
      "Epoch 38/50\n",
      "28217/28217 [==============================] - 3s 92us/step - loss: 0.5677 - accuracy: 0.8179\n",
      "Epoch 39/50\n",
      "28217/28217 [==============================] - 3s 110us/step - loss: 0.5676 - accuracy: 0.8179\n",
      "Epoch 40/50\n",
      "28217/28217 [==============================] - 3s 114us/step - loss: 0.5678 - accuracy: 0.8179\n",
      "Epoch 41/50\n",
      "28217/28217 [==============================] - 3s 123us/step - loss: 0.5675 - accuracy: 0.8179\n",
      "Epoch 42/50\n",
      "28217/28217 [==============================] - 3s 97us/step - loss: 0.5673 - accuracy: 0.8179 0s - loss: 0.5677  - ETA: 0s - loss: 0.5677 - accuracy: \n",
      "Epoch 43/50\n",
      "28217/28217 [==============================] - 3s 96us/step - loss: 0.5670 - accuracy: 0.8179 2s - loss: - - ETA: 0s - loss: 0.5648 - accu\n",
      "Epoch 44/50\n",
      "28217/28217 [==============================] - 3s 100us/step - loss: 0.5674 - accuracy: 0.81790s - loss: 0.5660 - ac\n",
      "Epoch 45/50\n",
      "28217/28217 [==============================] - 3s 96us/step - loss: 0.5674 - accuracy: 0.8179\n",
      "Epoch 46/50\n",
      "28217/28217 [==============================] - 3s 96us/step - loss: 0.5673 - accuracy: 0.8178\n",
      "Epoch 47/50\n",
      "28217/28217 [==============================] - 3s 93us/step - loss: 0.5669 - accuracy: 0.8179\n",
      "Epoch 48/50\n",
      "28217/28217 [==============================] - 3s 95us/step - loss: 0.5667 - accuracy: 0.8179\n",
      "Epoch 49/50\n",
      "28217/28217 [==============================] - 3s 97us/step - loss: 0.5669 - accuracy: 0.8179\n",
      "Epoch 50/50\n",
      "28217/28217 [==============================] - ETA: 0s - loss: 0.5671 - accuracy: 0.81 - 3s 93us/step - loss: 0.5671 - accuracy: 0.8179\n"
     ]
    },
    {
     "data": {
      "text/plain": [
       "<keras.callbacks.callbacks.History at 0x1f8a6278d48>"
      ]
     },
     "execution_count": 173,
     "metadata": {},
     "output_type": "execute_result"
    }
   ],
   "source": [
    "classifier.compile(loss='categorical_crossentropy',\n",
    "              optimizer='adam',\n",
    "              metrics=['accuracy'])\n",
    "                   \n",
    "classifier.fit(X_train, y_train, epochs=50, batch_size=10, verbose=1)"
   ]
  },
  {
   "cell_type": "markdown",
   "metadata": {},
   "source": [
    "## Predicting"
   ]
  },
  {
   "cell_type": "code",
   "execution_count": 175,
   "metadata": {},
   "outputs": [],
   "source": [
    "y_pred = classifier.predict(X_test)\n"
   ]
  },
  {
   "cell_type": "code",
   "execution_count": 176,
   "metadata": {},
   "outputs": [
    {
     "data": {
      "text/plain": [
       "(array([[4.1344088e-18, 9.2208444e-04, 2.1833414e-02, 1.3183416e-01,\n",
       "         2.4224961e-02, 6.4282197e-01, 7.5532724e-03],\n",
       "        [2.0640197e-22, 1.9982322e-04, 1.4586992e-02, 9.6023127e-02,\n",
       "         1.5475470e-02, 6.1235613e-01, 4.1390439e-03],\n",
       "        [6.0820946e-19, 1.1828132e-03, 2.7333288e-02, 1.7848596e-01,\n",
       "         2.4803627e-02, 7.5790352e-01, 7.1906522e-03],\n",
       "        [1.8593946e-22, 7.0612255e-04, 2.7530745e-02, 2.1271019e-01,\n",
       "         1.9018115e-02, 8.5481405e-01, 4.3741078e-03],\n",
       "        [3.1460813e-20, 6.7369308e-04, 2.0896798e-02, 1.3846067e-01,\n",
       "         1.9724393e-02, 7.0758462e-01, 5.1402720e-03],\n",
       "        [1.1471232e-06, 7.2337836e-01, 3.7733017e-07, 5.7950349e-08,\n",
       "         2.5370340e-05, 3.1466590e-07, 6.7011652e-10],\n",
       "        [2.5843134e-21, 1.0118494e-03, 3.1694029e-02, 2.3375633e-01,\n",
       "         2.2330116e-02, 8.5872722e-01, 5.6223287e-03],\n",
       "        [5.5933805e-16, 7.3850912e-04, 2.3113510e-02, 1.3798927e-01,\n",
       "         2.6981933e-02, 6.1030728e-01, 1.1960580e-02],\n",
       "        [7.3501929e-18, 7.4501941e-04, 2.4644496e-02, 1.5913746e-01,\n",
       "         2.4169140e-02, 7.0188570e-01, 8.7869093e-03],\n",
       "        [2.4060738e-19, 4.6671505e-04, 2.5491113e-02, 1.8781042e-01,\n",
       "         2.1149818e-02, 7.8204590e-01, 7.7329837e-03]], dtype=float32),\n",
       " array([[0., 0., 0., 1., 0., 0., 0.],\n",
       "        [0., 0., 0., 1., 0., 0., 0.],\n",
       "        [0., 0., 0., 0., 0., 1., 0.],\n",
       "        [0., 0., 0., 0., 0., 1., 0.],\n",
       "        [0., 0., 0., 1., 0., 0., 0.],\n",
       "        [0., 1., 0., 0., 0., 0., 0.],\n",
       "        [0., 0., 0., 0., 0., 1., 0.],\n",
       "        [0., 0., 0., 0., 0., 1., 0.],\n",
       "        [0., 0., 0., 1., 0., 0., 0.],\n",
       "        [0., 0., 0., 0., 0., 0., 1.]], dtype=float32))"
      ]
     },
     "execution_count": 176,
     "metadata": {},
     "output_type": "execute_result"
    }
   ],
   "source": [
    "#y_pred = y_pred>0.2\n",
    "y_pred[:10],y_test[:10]"
   ]
  },
  {
   "cell_type": "markdown",
   "metadata": {},
   "source": [
    "Evaluate the model"
   ]
  },
  {
   "cell_type": "code",
   "execution_count": 178,
   "metadata": {},
   "outputs": [
    {
     "name": "stdout",
     "output_type": "stream",
     "text": [
      "7055/7055 [==============================] - 0s 41us/step\n",
      "[0.5707580119265807, 0.8160170316696167]\n"
     ]
    }
   ],
   "source": [
    "score = classifier.evaluate(X_test, y_test,verbose=1)\n",
    "\n",
    "print(score)"
   ]
  },
  {
   "cell_type": "markdown",
   "metadata": {},
   "source": [
    "- The confusion matrix is a table which depicts correct and incorrect predictions. It will include the false positives and false negative classification as well. The diagonal values are correct ones while the rest are incorrect ones.\n",
    "- Precision measures the 'exactness' of the model. Higher precision value means higher accuracy of the model.\n",
    "- Recall  measures the 'completeness' of the model. Higher recall value means higher coverage of the model.\n",
    "- The F1 Score also called as F-score gives the 'weighted average of precision and recall'. Higher F1 score means higher accuracy and coverage.\n",
    "- The Kappa also called as Cohen’s kappa gives the accuracy of classification normalized by the 'imbalance of the classes in the data'.\n",
    "\n",
    "In the section below, we compute each one of these to quantify the strength of our model."
   ]
  },
  {
   "cell_type": "code",
   "execution_count": 181,
   "metadata": {},
   "outputs": [
    {
     "name": "stdout",
     "output_type": "stream",
     "text": [
      "[[  61    0    0    0    0    0    0]\n",
      " [   0 1311    0    0    0    4    0]\n",
      " [   0    0    0    0    0  127    0]\n",
      " [   0    0    0    0    0  987    0]\n",
      " [   0    0    0    0    0  142    0]\n",
      " [   0    0    0    0    0 4385    0]\n",
      " [   0    0    0    0    0   38    0]]\n"
     ]
    }
   ],
   "source": [
    "# Import the modules from `sklearn.metrics`\n",
    "from sklearn.metrics import confusion_matrix, precision_score, recall_score, f1_score, cohen_kappa_score\n",
    "from sklearn.metrics import confusion_matrix\n",
    "predictions = np.argmax(y_pred, axis=1) \n",
    "cm = confusion_matrix(np.argmax(y_test, axis=1), np.argmax(y_pred, axis=1))\n",
    "print(cm)"
   ]
  },
  {
   "cell_type": "code",
   "execution_count": 182,
   "metadata": {},
   "outputs": [
    {
     "name": "stdout",
     "output_type": "stream",
     "text": [
      "\n",
      "Accuracy: 0.82\n",
      "\n",
      "Micro Precision: 0.82\n",
      "Micro Recall: 0.82\n",
      "Micro F1-score: 0.82\n",
      "\n",
      "Macro Precision: 0.97\n",
      "Macro Recall: 0.43\n",
      "Macro F1-score: 0.41\n",
      "\n",
      "Weighted Precision: 0.67\n",
      "Weighted Recall: 0.82\n",
      "Weighted F1-score: 0.74\n",
      "\n",
      "Classification Report\n",
      "\n",
      "              precision    recall  f1-score   support\n",
      "\n",
      "     Class 1       1.00      1.00      1.00        61\n",
      "     Class 2       1.00      1.00      1.00      1315\n",
      "     Class 3       1.00      0.00      0.00       127\n",
      "     Class 4       1.00      0.00      0.00       987\n",
      "     Class 5       1.00      0.00      0.00       142\n",
      "     Class 6       0.77      1.00      0.87      4385\n",
      "     Class 7       1.00      0.00      0.00        38\n",
      "\n",
      "    accuracy                           0.82      7055\n",
      "   macro avg       0.97      0.43      0.41      7055\n",
      "weighted avg       0.86      0.82      0.74      7055\n",
      "\n"
     ]
    },
    {
     "name": "stderr",
     "output_type": "stream",
     "text": [
      "C:\\ProgramData\\Anaconda3\\lib\\site-packages\\sklearn\\metrics\\_classification.py:1272: UndefinedMetricWarning: Precision is ill-defined and being set to 0.0 in labels with no predicted samples. Use `zero_division` parameter to control this behavior.\n",
      "  _warn_prf(average, modifier, msg_start, len(result))\n"
     ]
    }
   ],
   "source": [
    "#importing accuracy_score, precision_score, recall_score, f1_score\n",
    "from sklearn.metrics import accuracy_score, precision_score, recall_score, f1_score\n",
    "print('\\nAccuracy: {:.2f}\\n'.format(accuracy_score(np.argmax(y_test, axis=1), np.argmax(y_pred, axis=1))))\n",
    "\n",
    "print('Micro Precision: {:.2f}'.format(precision_score(np.argmax(y_test, axis=1), np.argmax(y_pred, axis=1), average='micro')))\n",
    "print('Micro Recall: {:.2f}'.format(recall_score(np.argmax(y_test, axis=1), np.argmax(y_pred, axis=1), average='micro')))\n",
    "print('Micro F1-score: {:.2f}\\n'.format(f1_score(np.argmax(y_test, axis=1), np.argmax(y_pred, axis=1), average='micro')))\n",
    "\n",
    "print('Macro Precision: {:.2f}'.format(precision_score(np.argmax(y_test, axis=1), np.argmax(y_pred, axis=1), average='macro', zero_division = True)))\n",
    "print('Macro Recall: {:.2f}'.format(recall_score(np.argmax(y_test, axis=1), np.argmax(y_pred, axis=1), average='macro', zero_division = True)))\n",
    "print('Macro F1-score: {:.2f}\\n'.format(f1_score(np.argmax(y_test, axis=1), np.argmax(y_pred, axis=1), average='macro', zero_division = True)))\n",
    "\n",
    "print('Weighted Precision: {:.2f}'.format(precision_score(np.argmax(y_test, axis=1), np.argmax(y_pred, axis=1), average='weighted')))\n",
    "print('Weighted Recall: {:.2f}'.format(recall_score(np.argmax(y_test, axis=1), np.argmax(y_pred, axis=1), average='weighted')))\n",
    "print('Weighted F1-score: {:.2f}'.format(f1_score(np.argmax(y_test, axis=1), np.argmax(y_pred, axis=1), average='weighted')))\n",
    "\n",
    "from sklearn.metrics import classification_report\n",
    "print('\\nClassification Report\\n')\n",
    "print(classification_report(np.argmax(y_test, axis=1), np.argmax(y_pred, axis=1), target_names=['Class 1', 'Class 2', 'Class 3', 'Class 4', 'Class 5', 'Class 6', 'Class 7'], zero_division = True))\n"
   ]
  },
  {
   "cell_type": "raw",
   "metadata": {},
   "source": [
    "Thus the model can be quantified statistically in order to find out its strength/performance."
   ]
  },
  {
   "cell_type": "markdown",
   "metadata": {},
   "source": [
    "## Conclusion "
   ]
  },
  {
   "cell_type": "raw",
   "metadata": {},
   "source": [
    "In conclusion, we can use neural network techniques to understand the pattern of accident data. It can also depict the relation between the variable of the data. The model can be used to predict both binary and multi-class outputs hoping it would be one of the effect tools for studying the traffic safety. "
   ]
  },
  {
   "cell_type": "code",
   "execution_count": null,
   "metadata": {},
   "outputs": [],
   "source": []
  }
 ],
 "metadata": {
  "kernelspec": {
   "display_name": "Python 3",
   "language": "python",
   "name": "python3"
  },
  "language_info": {
   "codemirror_mode": {
    "name": "ipython",
    "version": 3
   },
   "file_extension": ".py",
   "mimetype": "text/x-python",
   "name": "python",
   "nbconvert_exporter": "python",
   "pygments_lexer": "ipython3",
   "version": "3.7.6"
  }
 },
 "nbformat": 4,
 "nbformat_minor": 4
}
