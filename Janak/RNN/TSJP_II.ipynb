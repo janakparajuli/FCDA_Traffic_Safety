{
 "cells": [
  {
   "cell_type": "markdown",
   "metadata": {},
   "source": [
    "# Reccurrent Neural Networks for Temporal Analysis of Accidents"
   ]
  },
  {
   "cell_type": "raw",
   "metadata": {},
   "source": [
    "In this model, we will build a recurrent neural network (RNN) for temporal modeling and analysis of accident data. This model can be used with any accident data changing just the relevant columns. Here we implement this model using EUSKA data of Germany."
   ]
  },
  {
   "cell_type": "raw",
   "metadata": {},
   "source": [
    "In the first step, we do data cleaning and adjustments. For this modeling, mainly two columns of data one with daily cases and another with the total counts of the cases are required. Not all the available data do have date in ready to use format. If the datetime are recorded into different column, we need to concat them in a single column and count the accidents in terms of day. This notebook presents the step by step modeling from scratch in terms of ready to use functions."
   ]
  },
  {
   "cell_type": "code",
   "execution_count": 1,
   "metadata": {},
   "outputs": [],
   "source": [
    "#At first, import required library\n",
    "import pandas as pd"
   ]
  },
  {
   "cell_type": "markdown",
   "metadata": {},
   "source": [
    "## Data Preparation Tools "
   ]
  },
  {
   "cell_type": "markdown",
   "metadata": {},
   "source": [
    "### Function to access and understand the data"
   ]
  },
  {
   "cell_type": "code",
   "execution_count": 2,
   "metadata": {},
   "outputs": [],
   "source": [
    "#Create a function to read data. The user need to enter the name of the columns where required data can be found\n",
    "def read_data():\n",
    "    file_name = input('Please type the name of csv file with accident data: ')\n",
    "    day_input = input('Please type the column names of day: ')\n",
    "    month_input = input('Please type the column names of month: ')\n",
    "    year_input = input('Please type the column names of year: ')\n",
    "    longitude_input = input('Please type the column names of longitude: ')\n",
    "    latitude_input = input('Please type the column names of latitude : ')\n",
    "    data = pd.read_csv(file_name, usecols = [day_input, month_input, year_input, longitude_input, latitude_input])\n",
    "    data = pd.DataFrame(data)\n",
    "    #print(data)\n",
    "    return data"
   ]
  },
  {
   "cell_type": "markdown",
   "metadata": {},
   "source": [
    "### Function to concat year, month and day of different columns into single column"
   ]
  },
  {
   "cell_type": "code",
   "execution_count": 3,
   "metadata": {},
   "outputs": [],
   "source": [
    "#Create a function to join columns with year, month and day\n",
    "def add_date(file):\n",
    "    data = file\n",
    "    day = data['Day']\n",
    "    month = data['Month']\n",
    "    year = data['Year']\n",
    "    file['Date'] = '20'+year.map(str) + '-' + month.map(str) + '-' + day.map(str)\n",
    "    file['Date'] = pd.to_datetime(file['Date'])\n",
    "    file = file.sort_values(by=\"Date\")\n",
    "    return file"
   ]
  },
  {
   "cell_type": "markdown",
   "metadata": {},
   "source": [
    "### Function to export the prepared data into a csv file "
   ]
  },
  {
   "cell_type": "code",
   "execution_count": 4,
   "metadata": {},
   "outputs": [],
   "source": [
    "#Define a function to add a count column and export to csv\n",
    "def export_to_csv(file):\n",
    "    data = file\n",
    "    data['Count'] = 1\n",
    "    data = data[['Date', 'Count']].groupby(['Date']).sum()\n",
    "    data.to_csv('testacci.csv')"
   ]
  },
  {
   "cell_type": "raw",
   "metadata": {},
   "source": [
    "Now lets prepare the data and export into csv for further use"
   ]
  },
  {
   "cell_type": "code",
   "execution_count": 5,
   "metadata": {},
   "outputs": [],
   "source": [
    "#euska_export_Bremen_.csv"
   ]
  },
  {
   "cell_type": "code",
   "execution_count": 8,
   "metadata": {},
   "outputs": [
    {
     "name": "stdout",
     "output_type": "stream",
     "text": [
      "Please type the name of csv file with accident data: euska_export_Bremen_.csv\n",
      "Please type the column names of day: Day\n",
      "Please type the column names of month: Month\n",
      "Please type the column names of year: Year\n",
      "Please type the column names of longitude: Longitude\n",
      "Please type the column names of latitude : Latitude\n"
     ]
    }
   ],
   "source": [
    "#Now call the read_data() function\n",
    "file = read_data()"
   ]
  },
  {
   "cell_type": "code",
   "execution_count": 9,
   "metadata": {},
   "outputs": [
    {
     "data": {
      "text/html": [
       "<div>\n",
       "<style scoped>\n",
       "    .dataframe tbody tr th:only-of-type {\n",
       "        vertical-align: middle;\n",
       "    }\n",
       "\n",
       "    .dataframe tbody tr th {\n",
       "        vertical-align: top;\n",
       "    }\n",
       "\n",
       "    .dataframe thead th {\n",
       "        text-align: right;\n",
       "    }\n",
       "</style>\n",
       "<table border=\"1\" class=\"dataframe\">\n",
       "  <thead>\n",
       "    <tr style=\"text-align: right;\">\n",
       "      <th></th>\n",
       "      <th>Day</th>\n",
       "      <th>Month</th>\n",
       "      <th>Year</th>\n",
       "      <th>Longitude</th>\n",
       "      <th>Latitude</th>\n",
       "      <th>Date</th>\n",
       "    </tr>\n",
       "  </thead>\n",
       "  <tbody>\n",
       "    <tr>\n",
       "      <th>20256</th>\n",
       "      <td>1</td>\n",
       "      <td>1</td>\n",
       "      <td>15</td>\n",
       "      <td>8.798485</td>\n",
       "      <td>53.063440</td>\n",
       "      <td>2015-01-01</td>\n",
       "    </tr>\n",
       "    <tr>\n",
       "      <th>12327</th>\n",
       "      <td>1</td>\n",
       "      <td>1</td>\n",
       "      <td>15</td>\n",
       "      <td>8.810380</td>\n",
       "      <td>53.082009</td>\n",
       "      <td>2015-01-01</td>\n",
       "    </tr>\n",
       "    <tr>\n",
       "      <th>339</th>\n",
       "      <td>1</td>\n",
       "      <td>1</td>\n",
       "      <td>15</td>\n",
       "      <td>8.807961</td>\n",
       "      <td>53.088592</td>\n",
       "      <td>2015-01-01</td>\n",
       "    </tr>\n",
       "    <tr>\n",
       "      <th>33098</th>\n",
       "      <td>1</td>\n",
       "      <td>1</td>\n",
       "      <td>15</td>\n",
       "      <td>8.940964</td>\n",
       "      <td>53.058464</td>\n",
       "      <td>2015-01-01</td>\n",
       "    </tr>\n",
       "    <tr>\n",
       "      <th>33193</th>\n",
       "      <td>1</td>\n",
       "      <td>1</td>\n",
       "      <td>15</td>\n",
       "      <td>8.873780</td>\n",
       "      <td>53.101185</td>\n",
       "      <td>2015-01-01</td>\n",
       "    </tr>\n",
       "    <tr>\n",
       "      <th>...</th>\n",
       "      <td>...</td>\n",
       "      <td>...</td>\n",
       "      <td>...</td>\n",
       "      <td>...</td>\n",
       "      <td>...</td>\n",
       "      <td>...</td>\n",
       "    </tr>\n",
       "    <tr>\n",
       "      <th>16800</th>\n",
       "      <td>31</td>\n",
       "      <td>12</td>\n",
       "      <td>18</td>\n",
       "      <td>8.949970</td>\n",
       "      <td>53.063029</td>\n",
       "      <td>2018-12-31</td>\n",
       "    </tr>\n",
       "    <tr>\n",
       "      <th>6755</th>\n",
       "      <td>31</td>\n",
       "      <td>12</td>\n",
       "      <td>18</td>\n",
       "      <td>8.640433</td>\n",
       "      <td>53.189146</td>\n",
       "      <td>2018-12-31</td>\n",
       "    </tr>\n",
       "    <tr>\n",
       "      <th>13210</th>\n",
       "      <td>31</td>\n",
       "      <td>12</td>\n",
       "      <td>18</td>\n",
       "      <td>8.872339</td>\n",
       "      <td>53.107905</td>\n",
       "      <td>2018-12-31</td>\n",
       "    </tr>\n",
       "    <tr>\n",
       "      <th>4268</th>\n",
       "      <td>31</td>\n",
       "      <td>12</td>\n",
       "      <td>18</td>\n",
       "      <td>8.795121</td>\n",
       "      <td>53.074058</td>\n",
       "      <td>2018-12-31</td>\n",
       "    </tr>\n",
       "    <tr>\n",
       "      <th>29902</th>\n",
       "      <td>31</td>\n",
       "      <td>12</td>\n",
       "      <td>18</td>\n",
       "      <td>8.813111</td>\n",
       "      <td>53.098888</td>\n",
       "      <td>2018-12-31</td>\n",
       "    </tr>\n",
       "  </tbody>\n",
       "</table>\n",
       "<p>35285 rows × 6 columns</p>\n",
       "</div>"
      ],
      "text/plain": [
       "       Day  Month  Year  Longitude   Latitude       Date\n",
       "20256    1      1    15   8.798485  53.063440 2015-01-01\n",
       "12327    1      1    15   8.810380  53.082009 2015-01-01\n",
       "339      1      1    15   8.807961  53.088592 2015-01-01\n",
       "33098    1      1    15   8.940964  53.058464 2015-01-01\n",
       "33193    1      1    15   8.873780  53.101185 2015-01-01\n",
       "...    ...    ...   ...        ...        ...        ...\n",
       "16800   31     12    18   8.949970  53.063029 2018-12-31\n",
       "6755    31     12    18   8.640433  53.189146 2018-12-31\n",
       "13210   31     12    18   8.872339  53.107905 2018-12-31\n",
       "4268    31     12    18   8.795121  53.074058 2018-12-31\n",
       "29902   31     12    18   8.813111  53.098888 2018-12-31\n",
       "\n",
       "[35285 rows x 6 columns]"
      ]
     },
     "execution_count": 9,
     "metadata": {},
     "output_type": "execute_result"
    }
   ],
   "source": [
    "#Concat the datetime into single column\n",
    "add_date(file)"
   ]
  },
  {
   "cell_type": "code",
   "execution_count": 10,
   "metadata": {},
   "outputs": [],
   "source": [
    "export_to_csv(file)"
   ]
  },
  {
   "cell_type": "raw",
   "metadata": {},
   "source": [
    "As the data is exported into csv file, we can access it again for doing the modeling. Before that we need to separate the csv file into training and testing set. This was done manually by categorizing data before Mar 15, 2018 as training set and beyod that as testing set."
   ]
  },
  {
   "cell_type": "markdown",
   "metadata": {},
   "source": [
    "## Modeling Tools "
   ]
  },
  {
   "cell_type": "raw",
   "metadata": {},
   "source": [
    "In this section, we will develop some tools that are used in modeling. Any modeling consist of three steps: training, testing and making prediction. But before that we need to prepare data for training. Lets access the training and testing data at first"
   ]
  },
  {
   "cell_type": "code",
   "execution_count": 11,
   "metadata": {},
   "outputs": [],
   "source": [
    "#DailyAccidents_Jan_15_Mar_18.csv\n",
    "#DailyAccidents_Apr_18_Dec_18.csv"
   ]
  },
  {
   "cell_type": "code",
   "execution_count": 20,
   "metadata": {},
   "outputs": [
    {
     "name": "stdout",
     "output_type": "stream",
     "text": [
      "Please enter the name of training file with extension: DailyAccidents_Jan_15_Mar_18.csv\n"
     ]
    }
   ],
   "source": [
    "train_file = input('Please enter the name of training file with extension: ')"
   ]
  },
  {
   "cell_type": "code",
   "execution_count": 22,
   "metadata": {},
   "outputs": [
    {
     "name": "stdout",
     "output_type": "stream",
     "text": [
      "Please enter the name of testing file with extension: DailyAccidents_Apr_18_Dec_18.csv\n"
     ]
    }
   ],
   "source": [
    "test_file = input('Please enter the name of testing file with extension: ')"
   ]
  },
  {
   "cell_type": "code",
   "execution_count": 23,
   "metadata": {},
   "outputs": [],
   "source": [
    "#Importing the libraries\n",
    "import numpy as np\n",
    "import matplotlib.pyplot as plt\n",
    "import pandas as pd"
   ]
  },
  {
   "cell_type": "code",
   "execution_count": 24,
   "metadata": {},
   "outputs": [],
   "source": [
    "#Import and define variable for Feature Scaling\n",
    "from sklearn.preprocessing import MinMaxScaler\n",
    "sc = MinMaxScaler(feature_range = (0, 1))"
   ]
  },
  {
   "cell_type": "markdown",
   "metadata": {},
   "source": [
    "### Data Preprocessing Tools "
   ]
  },
  {
   "cell_type": "raw",
   "metadata": {},
   "source": [
    "In this step, we need to scale the data. Then we should define the timesteps, predictor value, etc. to be used as input."
   ]
  },
  {
   "cell_type": "code",
   "execution_count": 25,
   "metadata": {},
   "outputs": [],
   "source": [
    "#Define a function to prepare the training data\n",
    "def train_data(train_file):\n",
    "    dataset_train = pd.read_csv(train_file)\n",
    "    training_set = dataset_train.iloc[:,1:2].values\n",
    "    #Feature Scaling\n",
    "    #from sklearn.preprocessing import MinMaxScaler\n",
    "    #sc = MinMaxScaler(feature_range = (0, 1))\n",
    "    training_set_scaled = sc.fit_transform(training_set)\n",
    "    \n",
    "    #Creating a data structure with 60 timesteps and 1 output\n",
    "    X_train = []\n",
    "    y_train = []\n",
    "    timestamp = int(input('Please enter the timestamp: '))\n",
    "    #train_data_size = int(input('Please enter the timestamp'))\n",
    "    for i in range(timestamp, len(training_set_scaled)):\n",
    "        X_train.append(training_set_scaled[i-timestamp:i, 0])\n",
    "        y_train.append(training_set_scaled[i, 0])\n",
    "    X_train, y_train = np.array(X_train), np.array(y_train)\n",
    "\n",
    "    #Reshaping\n",
    "    X_train = np.reshape(X_train, (X_train.shape[0], X_train.shape[1], 1))\n",
    "    #1 is predictor/indicator here\n",
    "    return X_train, y_train, dataset_train, timestamp"
   ]
  },
  {
   "cell_type": "markdown",
   "metadata": {},
   "source": [
    "### Model building tools "
   ]
  },
  {
   "cell_type": "raw",
   "metadata": {},
   "source": [
    "After preprocessing is done, model should be built in the next step. A suitable model architecture should be designed and then fitted with the training data."
   ]
  },
  {
   "cell_type": "code",
   "execution_count": 26,
   "metadata": {},
   "outputs": [],
   "source": [
    "#Step 2: Build the network\n",
    "def build_network():\n",
    "    print('loading  required libraries ...')\n",
    "    #Importing the keras libraries and packages\n",
    "    from keras.models import Sequential\n",
    "    from keras.layers import Dense\n",
    "    from keras.layers import LSTM\n",
    "    from keras.layers import Dropout\n",
    "    print('... done with loading libraries')\n",
    "    \n",
    "    #Inputs for variables and hyperparameters.\n",
    "    units = int(input('Please enter the number of units: '))#50\n",
    "    optimizer = input('Please enter the name of the optimizer of your choice: ')#adam\n",
    "    loss = input('Please enter the name of loss you want to compute: ')#mean_squared_error\n",
    "    epochs = int(input('Please enter the number of epochs: '))#100\n",
    "    batch_size = int(input('Please enter the batch size: '))#15\n",
    "    \n",
    "    #Build the model\n",
    "    #Initialising the RNN\n",
    "    regressor = Sequential()\n",
    "\n",
    "    #Adding the first LSTM layer and some Dropout regularisation\n",
    "    regressor.add(LSTM(units = units, return_sequences = True, input_shape = (X_train.shape[1], 1)))\n",
    "    regressor.add(Dropout(0.2))\n",
    "\n",
    "    #Adding the second LSTM layer and some Dropout regularisation\n",
    "    regressor.add(LSTM(units = units, return_sequences = True))\n",
    "    regressor.add(Dropout(0.2))\n",
    "\n",
    "    #Adding the third LSTM layer and some Dropout regularisation\n",
    "    regressor.add(LSTM(units = units, return_sequences = True))\n",
    "    regressor.add(Dropout(0.2))\n",
    "\n",
    "    #Adding the fourth LSTM layer and some Dropout regularisation\n",
    "    regressor.add(LSTM(units = units))\n",
    "    regressor.add(Dropout(0.2))\n",
    "\n",
    "    #Adding the output layer\n",
    "    regressor.add(Dense(units = 1))\n",
    "\n",
    "    #Compiling the RNN, adam, mean_squared_error\n",
    "    regressor.compile(optimizer = optimizer, loss = loss)\n",
    "\n",
    "    #Fitting the RNN to the Training set 100, 5\n",
    "    regressor.fit(X_train, y_train, epochs = epochs, batch_size= batch_size)\n",
    "    return regressor"
   ]
  },
  {
   "cell_type": "markdown",
   "metadata": {},
   "source": [
    "### Testing and Prediction Tools "
   ]
  },
  {
   "cell_type": "raw",
   "metadata": {},
   "source": [
    "When the model is trained and fitted, it should then be used for testing and making predictions. Test data can be used for comparison with the predicted values."
   ]
  },
  {
   "cell_type": "code",
   "execution_count": 27,
   "metadata": {},
   "outputs": [],
   "source": [
    "def make_prediction(test_data):\n",
    "    #Getting the real accidents from Apr 2018\n",
    "    dataset_test = pd.read_csv(test_data)\n",
    "    real_accident_number = dataset_test.iloc[:, 1:2].values\n",
    "\n",
    "    #Getting the predicted accidents of April 2018\n",
    "    dataset_total = pd.concat((train[2]['Count'], dataset_test['Count']), axis = 0)\n",
    "    inputs = dataset_total[len(dataset_total)-len(dataset_test)-60:].values\n",
    "    inputs = inputs.reshape(-1, 1)\n",
    "    inputs = sc.transform(inputs)\n",
    "\n",
    "    #Now prepare variable for prediction\n",
    "    X_test = []\n",
    "    for i in range(timestamp, (len(dataset_test)+60)):\n",
    "        X_test.append(inputs[i-timestamp:i, 0])\n",
    "    X_test = np.array(X_test)\n",
    "    X_test = np.reshape(X_test, (X_test.shape[0], X_test.shape[1], 1))\n",
    "    predicted_accident_number = regressor.predict(X_test)\n",
    "    predicted_accident_number = sc.inverse_transform(predicted_accident_number)\n",
    "    return predicted_accident_number, real_accident_number"
   ]
  },
  {
   "cell_type": "raw",
   "metadata": {},
   "source": [
    "After testing is done, similar approach can be used for making prediction with new data. Hence a separate segment for prediction is not presented in this notebook. We used the predicted values obtained during the testing phase to compare with the original values of the test dataset. The comparison is made graphically as given in the section below."
   ]
  },
  {
   "cell_type": "markdown",
   "metadata": {},
   "source": [
    "### Visualization Tools "
   ]
  },
  {
   "cell_type": "raw",
   "metadata": {},
   "source": [
    "As an example, visualization is done using matplotlib library of python and then creating lineplots to compare the trends of test and prediction sets."
   ]
  },
  {
   "cell_type": "code",
   "execution_count": 51,
   "metadata": {},
   "outputs": [],
   "source": [
    "#Define a function to visualize the result\n",
    "def visualize_result():\n",
    "    #Visualizing the results\n",
    "    plt.plot(real_accident_number, color = 'red', label = 'Real Accident Number')\n",
    "    plt.plot(predicted_accident_number, color = 'blue', label = 'Predicted Accident Number')\n",
    "    plt.title('Daily Accident Prediction')\n",
    "    plt.xlabel('Days')\n",
    "    plt.ylabel('Number of Accidents')\n",
    "    plt.legend()\n",
    "    #plt.show()\n",
    "    plt.savefig('Prediction_of_Accidents.png')"
   ]
  },
  {
   "cell_type": "markdown",
   "metadata": {},
   "source": [
    "### Model Evaluation Tools "
   ]
  },
  {
   "cell_type": "raw",
   "metadata": {},
   "source": [
    "The model can also be evaluated statistically by computing root mean square error, mean predicted accident number and the relative error."
   ]
  },
  {
   "cell_type": "code",
   "execution_count": 29,
   "metadata": {},
   "outputs": [],
   "source": [
    "#Define a function for evaluating the model\n",
    "def evaluate_model():\n",
    "    #Compute the RMSE\n",
    "    import math\n",
    "    from sklearn.metrics import mean_squared_error\n",
    "    rmse = math.sqrt(mean_squared_error(real_accident_number, predicted_accident_number))\n",
    "    \n",
    "    #Compute Relative Error\n",
    "    mean_predicted_accident_number = predicted_accident_number.mean()\n",
    "    relative_error = rmse/mean_predicted_accident_number\n",
    "    return rmse, mean_predicted_accident_number, relative_error"
   ]
  },
  {
   "cell_type": "markdown",
   "metadata": {},
   "source": [
    "## Implementation of developed Tools "
   ]
  },
  {
   "cell_type": "raw",
   "metadata": {},
   "source": [
    "As all the required functions are defined, now lets implement these functions in the section below"
   ]
  },
  {
   "cell_type": "code",
   "execution_count": 40,
   "metadata": {
    "scrolled": true
   },
   "outputs": [
    {
     "name": "stdout",
     "output_type": "stream",
     "text": [
      "Please enter the timestamp: 60\n"
     ]
    },
    {
     "data": {
      "text/plain": [
       "(array([[[0.05357143],\n",
       "         [0.14285714],\n",
       "         [0.125     ],\n",
       "         ...,\n",
       "         [0.5       ],\n",
       "         [0.39285714],\n",
       "         [0.125     ]],\n",
       " \n",
       "        [[0.14285714],\n",
       "         [0.125     ],\n",
       "         [0.16071429],\n",
       "         ...,\n",
       "         [0.39285714],\n",
       "         [0.125     ],\n",
       "         [0.48214286]],\n",
       " \n",
       "        [[0.125     ],\n",
       "         [0.16071429],\n",
       "         [0.26785714],\n",
       "         ...,\n",
       "         [0.125     ],\n",
       "         [0.48214286],\n",
       "         [0.46428571]],\n",
       " \n",
       "        ...,\n",
       " \n",
       "        [[0.08928571],\n",
       "         [0.64285714],\n",
       "         [0.375     ],\n",
       "         ...,\n",
       "         [0.39285714],\n",
       "         [0.39285714],\n",
       "         [0.42857143]],\n",
       " \n",
       "        [[0.64285714],\n",
       "         [0.375     ],\n",
       "         [0.5       ],\n",
       "         ...,\n",
       "         [0.39285714],\n",
       "         [0.42857143],\n",
       "         [0.51785714]],\n",
       " \n",
       "        [[0.375     ],\n",
       "         [0.5       ],\n",
       "         [0.58928571],\n",
       "         ...,\n",
       "         [0.42857143],\n",
       "         [0.51785714],\n",
       "         [0.17857143]]]),\n",
       " array([0.48214286, 0.46428571, 0.44642857, ..., 0.51785714, 0.17857143,\n",
       "        0.41071429]),\n",
       "            Date  Count\n",
       " 0      1/1/2015      5\n",
       " 1      1/2/2015     10\n",
       " 2      1/3/2015      9\n",
       " 3      1/4/2015     11\n",
       " 4      1/5/2015     17\n",
       " ...         ...    ...\n",
       " 1179  3/27/2018     24\n",
       " 1180  3/28/2018     26\n",
       " 1181  3/29/2018     31\n",
       " 1182  3/30/2018     12\n",
       " 1183  3/31/2018     25\n",
       " \n",
       " [1184 rows x 2 columns])"
      ]
     },
     "execution_count": 40,
     "metadata": {},
     "output_type": "execute_result"
    }
   ],
   "source": [
    "train = train_data('DailyAccidents_Jan_15_Mar_18.csv')\n",
    "X_train = train[0]\n",
    "y_train = train[1]\n",
    "dataset_train = train[2]\n",
    "timestamp = train[3]\n",
    "X_train, y_train, dataset_train"
   ]
  },
  {
   "cell_type": "raw",
   "metadata": {},
   "source": [
    "Implement the function to build the network here."
   ]
  },
  {
   "cell_type": "code",
   "execution_count": 41,
   "metadata": {
    "scrolled": true
   },
   "outputs": [
    {
     "name": "stdout",
     "output_type": "stream",
     "text": [
      "loading  required libraries ...\n",
      "... done with loading libraries\n",
      "Please enter the number of units: 50\n",
      "Please enter the name of the optimizer of your choice: adam\n",
      "Please enter the name of loss you want to compute: mean_squared_error\n",
      "Please enter the number of epochs: 100\n",
      "Please enter the batch size: 10\n",
      "Epoch 1/100\n",
      "1124/1124 [==============================] - 14s 13ms/step - loss: 0.0444\n",
      "Epoch 2/100\n",
      "1124/1124 [==============================] - 12s 11ms/step - loss: 0.0367\n",
      "Epoch 3/100\n",
      "1124/1124 [==============================] - 12s 11ms/step - loss: 0.0364\n",
      "Epoch 4/100\n",
      "1124/1124 [==============================] - 11s 10ms/step - loss: 0.0358\n",
      "Epoch 5/100\n",
      "1124/1124 [==============================] - 11s 10ms/step - loss: 0.0352\n",
      "Epoch 6/100\n",
      "1124/1124 [==============================] - 12s 10ms/step - loss: 0.0354\n",
      "Epoch 7/100\n",
      "1124/1124 [==============================] - 12s 10ms/step - loss: 0.0361\n",
      "Epoch 8/100\n",
      "1124/1124 [==============================] - 12s 11ms/step - loss: 0.0347\n",
      "Epoch 9/100\n",
      "1124/1124 [==============================] - 13s 11ms/step - loss: 0.0352\n",
      "Epoch 10/100\n",
      "1124/1124 [==============================] - 12s 11ms/step - loss: 0.0357\n",
      "Epoch 11/100\n",
      "1124/1124 [==============================] - 13s 12ms/step - loss: 0.0349\n",
      "Epoch 12/100\n",
      "1124/1124 [==============================] - 11s 10ms/step - loss: 0.0348\n",
      "Epoch 13/100\n",
      "1124/1124 [==============================] - 11s 10ms/step - loss: 0.0349\n",
      "Epoch 14/100\n",
      "1124/1124 [==============================] - 10s 9ms/step - loss: 0.0348\n",
      "Epoch 15/100\n",
      "1124/1124 [==============================] - 10s 9ms/step - loss: 0.0351\n",
      "Epoch 16/100\n",
      "1124/1124 [==============================] - 11s 10ms/step - loss: 0.0349\n",
      "Epoch 17/100\n",
      "1124/1124 [==============================] - 11s 10ms/step - loss: 0.0349\n",
      "Epoch 18/100\n",
      "1124/1124 [==============================] - 11s 9ms/step - loss: 0.0341\n",
      "Epoch 19/100\n",
      "1124/1124 [==============================] - 10s 9ms/step - loss: 0.0343\n",
      "Epoch 20/100\n",
      "1124/1124 [==============================] - 11s 10ms/step - loss: 0.0347\n",
      "Epoch 21/100\n",
      "1124/1124 [==============================] - 11s 9ms/step - loss: 0.0342\n",
      "Epoch 22/100\n",
      "1124/1124 [==============================] - 10s 9ms/step - loss: 0.0341\n",
      "Epoch 23/100\n",
      "1124/1124 [==============================] - 12s 11ms/step - loss: 0.0343\n",
      "Epoch 24/100\n",
      "1124/1124 [==============================] - 11s 9ms/step - loss: 0.0338\n",
      "Epoch 25/100\n",
      "1124/1124 [==============================] - 12s 10ms/step - loss: 0.0307\n",
      "Epoch 26/100\n",
      "1124/1124 [==============================] - 11s 10ms/step - loss: 0.0285\n",
      "Epoch 27/100\n",
      "1124/1124 [==============================] - 12s 10ms/step - loss: 0.0264\n",
      "Epoch 28/100\n",
      "1124/1124 [==============================] - 10s 9ms/step - loss: 0.0257\n",
      "Epoch 29/100\n",
      "1124/1124 [==============================] - 11s 10ms/step - loss: 0.0240\n",
      "Epoch 30/100\n",
      "1124/1124 [==============================] - 12s 10ms/step - loss: 0.0234\n",
      "Epoch 31/100\n",
      "1124/1124 [==============================] - 11s 10ms/step - loss: 0.0235\n",
      "Epoch 32/100\n",
      "1124/1124 [==============================] - 10s 9ms/step - loss: 0.0227\n",
      "Epoch 33/100\n",
      "1124/1124 [==============================] - 10s 9ms/step - loss: 0.0224\n",
      "Epoch 34/100\n",
      "1124/1124 [==============================] - 10s 9ms/step - loss: 0.0223\n",
      "Epoch 35/100\n",
      "1124/1124 [==============================] - 10s 9ms/step - loss: 0.0235\n",
      "Epoch 36/100\n",
      "1124/1124 [==============================] - 10s 9ms/step - loss: 0.0228\n",
      "Epoch 37/100\n",
      "1124/1124 [==============================] - 10s 9ms/step - loss: 0.0220\n",
      "Epoch 38/100\n",
      "1124/1124 [==============================] - 10s 9ms/step - loss: 0.0220\n",
      "Epoch 39/100\n",
      "1124/1124 [==============================] - 10s 9ms/step - loss: 0.0215\n",
      "Epoch 40/100\n",
      "1124/1124 [==============================] - 10s 9ms/step - loss: 0.0205\n",
      "Epoch 41/100\n",
      "1124/1124 [==============================] - 10s 9ms/step - loss: 0.0211\n",
      "Epoch 42/100\n",
      "1124/1124 [==============================] - 10s 9ms/step - loss: 0.0209: 1s\n",
      "Epoch 43/100\n",
      "1124/1124 [==============================] - 10s 9ms/step - loss: 0.0210\n",
      "Epoch 44/100\n",
      "1124/1124 [==============================] - 11s 10ms/step - loss: 0.0209\n",
      "Epoch 45/100\n",
      "1124/1124 [==============================] - 10s 9ms/step - loss: 0.0199\n",
      "Epoch 46/100\n",
      "1124/1124 [==============================] - 10s 9ms/step - loss: 0.0203\n",
      "Epoch 47/100\n",
      "1124/1124 [==============================] - 11s 10ms/step - loss: 0.0196\n",
      "Epoch 48/100\n",
      "1124/1124 [==============================] - 11s 10ms/step - loss: 0.0194 3s - los\n",
      "Epoch 49/100\n",
      "1124/1124 [==============================] - 10s 9ms/step - loss: 0.0192\n",
      "Epoch 50/100\n",
      "1124/1124 [==============================] - 11s 10ms/step - loss: 0.0186\n",
      "Epoch 51/100\n",
      "1124/1124 [==============================] - 11s 9ms/step - loss: 0.0193\n",
      "Epoch 52/100\n",
      "1124/1124 [==============================] - 10s 9ms/step - loss: 0.0189\n",
      "Epoch 53/100\n",
      "1124/1124 [==============================] - 11s 10ms/step - loss: 0.0193\n",
      "Epoch 54/100\n",
      "1124/1124 [==============================] - 12s 11ms/step - loss: 0.0189\n",
      "Epoch 55/100\n",
      "1124/1124 [==============================] - 11s 10ms/step - loss: 0.0189\n",
      "Epoch 56/100\n",
      "1124/1124 [==============================] - 11s 9ms/step - loss: 0.0191\n",
      "Epoch 57/100\n",
      "1124/1124 [==============================] - 11s 10ms/step - loss: 0.0184\n",
      "Epoch 58/100\n",
      "1124/1124 [==============================] - 10s 9ms/step - loss: 0.0185\n",
      "Epoch 59/100\n",
      "1124/1124 [==============================] - 10s 9ms/step - loss: 0.0181\n",
      "Epoch 60/100\n",
      "1124/1124 [==============================] - 10s 9ms/step - loss: 0.0182\n",
      "Epoch 61/100\n",
      "1124/1124 [==============================] - 10s 9ms/step - loss: 0.0178\n",
      "Epoch 62/100\n",
      "1124/1124 [==============================] - 10s 9ms/step - loss: 0.0203\n",
      "Epoch 63/100\n",
      "1124/1124 [==============================] - 10s 9ms/step - loss: 0.0179 ETA: 0s - loss: 0\n",
      "Epoch 64/100\n",
      "1124/1124 [==============================] - 11s 9ms/step - loss: 0.0172\n",
      "Epoch 65/100\n",
      "1124/1124 [==============================] - 10s 9ms/step - loss: 0.0178\n",
      "Epoch 66/100\n",
      "1124/1124 [==============================] - 10s 9ms/step - loss: 0.0174\n",
      "Epoch 67/100\n",
      "1124/1124 [==============================] - 10s 9ms/step - loss: 0.0184\n",
      "Epoch 68/100\n",
      "1124/1124 [==============================] - 10s 9ms/step - loss: 0.0204\n",
      "Epoch 69/100\n",
      "1124/1124 [==============================] - 10s 9ms/step - loss: 0.0186\n",
      "Epoch 70/100\n",
      "1124/1124 [==============================] - 10s 9ms/step - loss: 0.0175\n",
      "Epoch 71/100\n",
      "1124/1124 [==============================] - 10s 9ms/step - loss: 0.0179\n",
      "Epoch 72/100\n",
      "1124/1124 [==============================] - 10s 9ms/step - loss: 0.0172: 1s \n",
      "Epoch 73/100\n",
      "1124/1124 [==============================] - 10s 9ms/step - loss: 0.0171\n",
      "Epoch 74/100\n",
      "1124/1124 [==============================] - 10s 9ms/step - loss: 0.0172\n",
      "Epoch 75/100\n",
      "1124/1124 [==============================] - 10s 9ms/step - loss: 0.0169\n",
      "Epoch 76/100\n",
      "1124/1124 [==============================] - 10s 9ms/step - loss: 0.0174\n",
      "Epoch 77/100\n",
      "1124/1124 [==============================] - 10s 9ms/step - loss: 0.0173\n",
      "Epoch 78/100\n",
      "1124/1124 [==============================] - 11s 10ms/step - loss: 0.0184\n",
      "Epoch 79/100\n",
      "1124/1124 [==============================] - 11s 10ms/step - loss: 0.0174\n",
      "Epoch 80/100\n",
      "1124/1124 [==============================] - 11s 10ms/step - loss: 0.0173\n",
      "Epoch 81/100\n",
      "1124/1124 [==============================] - 12s 11ms/step - loss: 0.0169\n",
      "Epoch 82/100\n",
      "1124/1124 [==============================] - 12s 11ms/step - loss: 0.0165\n",
      "Epoch 83/100\n",
      "1124/1124 [==============================] - 12s 11ms/step - loss: 0.0168\n",
      "Epoch 84/100\n",
      "1124/1124 [==============================] - 12s 10ms/step - loss: 0.0165\n",
      "Epoch 85/100\n",
      "1124/1124 [==============================] - 10s 9ms/step - loss: 0.0171\n",
      "Epoch 86/100\n",
      "1124/1124 [==============================] - 10s 9ms/step - loss: 0.0163\n",
      "Epoch 87/100\n",
      "1124/1124 [==============================] - 10s 8ms/step - loss: 0.0172\n",
      "Epoch 88/100\n",
      "1124/1124 [==============================] - 10s 9ms/step - loss: 0.0210\n",
      "Epoch 89/100\n",
      "1124/1124 [==============================] - 10s 9ms/step - loss: 0.0166\n",
      "Epoch 90/100\n",
      "1124/1124 [==============================] - 10s 9ms/step - loss: 0.0162\n",
      "Epoch 91/100\n",
      "1124/1124 [==============================] - 10s 9ms/step - loss: 0.0159\n"
     ]
    },
    {
     "name": "stdout",
     "output_type": "stream",
     "text": [
      "Epoch 92/100\n",
      "1124/1124 [==============================] - 10s 9ms/step - loss: 0.0159\n",
      "Epoch 93/100\n",
      "1124/1124 [==============================] - 10s 9ms/step - loss: 0.0172\n",
      "Epoch 94/100\n",
      "1124/1124 [==============================] - 10s 8ms/step - loss: 0.0159\n",
      "Epoch 95/100\n",
      "1124/1124 [==============================] - 10s 8ms/step - loss: 0.0193\n",
      "Epoch 96/100\n",
      "1124/1124 [==============================] - 10s 9ms/step - loss: 0.0165\n",
      "Epoch 97/100\n",
      "1124/1124 [==============================] - 11s 9ms/step - loss: 0.0165\n",
      "Epoch 98/100\n",
      "1124/1124 [==============================] - 12s 11ms/step - loss: 0.0157\n",
      "Epoch 99/100\n",
      "1124/1124 [==============================] - 13s 11ms/step - loss: 0.0163\n",
      "Epoch 100/100\n",
      "1124/1124 [==============================] - 11s 10ms/step - loss: 0.0163\n"
     ]
    }
   ],
   "source": [
    "regressor = build_network()"
   ]
  },
  {
   "cell_type": "code",
   "execution_count": 42,
   "metadata": {},
   "outputs": [
    {
     "data": {
      "text/plain": [
       "0        5\n",
       "1       10\n",
       "2        9\n",
       "3       11\n",
       "4       17\n",
       "        ..\n",
       "1179    24\n",
       "1180    26\n",
       "1181    31\n",
       "1182    12\n",
       "1183    25\n",
       "Name: Count, Length: 1184, dtype: int64"
      ]
     },
     "execution_count": 42,
     "metadata": {},
     "output_type": "execute_result"
    }
   ],
   "source": [
    "train[2]['Count']"
   ]
  },
  {
   "cell_type": "raw",
   "metadata": {},
   "source": [
    "Now implement the function to predict the accidents."
   ]
  },
  {
   "cell_type": "code",
   "execution_count": 43,
   "metadata": {},
   "outputs": [],
   "source": [
    "accident_number = make_prediction('DailyAccidents_Apr_18_Dec_18.csv')\n",
    "real_accident_number = accident_number[1]\n",
    "predicted_accident_number = accident_number[0]"
   ]
  },
  {
   "cell_type": "raw",
   "metadata": {},
   "source": [
    "Visualize the result in a line plot"
   ]
  },
  {
   "cell_type": "code",
   "execution_count": 52,
   "metadata": {},
   "outputs": [
    {
     "data": {
      "image/png": "[encoded data removed]",
      "text/plain": [
       "<Figure size 432x288 with 1 Axes>"
      ]
     },
     "metadata": {
      "needs_background": "light"
     },
     "output_type": "display_data"
    }
   ],
   "source": [
    "visualize_result()"
   ]
  },
  {
   "cell_type": "raw",
   "metadata": {},
   "source": [
    "Now implement the model evaluation function"
   ]
  },
  {
   "cell_type": "code",
   "execution_count": 45,
   "metadata": {},
   "outputs": [],
   "source": [
    "evaluation = evaluate_model()\n",
    "rmse = evaluation[0]\n",
    "mean_predicted_accident_number = evaluation[1]\n",
    "relative_error = evaluation[2]"
   ]
  },
  {
   "cell_type": "code",
   "execution_count": 46,
   "metadata": {},
   "outputs": [
    {
     "name": "stdout",
     "output_type": "stream",
     "text": [
      "8.566350994111094 25.143885 0.3406932186633461\n",
      "Done with accident prediction\n"
     ]
    }
   ],
   "source": [
    "print(rmse, mean_predicted_accident_number, relative_error)\n",
    "print('Done with accident prediction')"
   ]
  },
  {
   "cell_type": "markdown",
   "metadata": {},
   "source": [
    "## Conclusion "
   ]
  },
  {
   "cell_type": "raw",
   "metadata": {},
   "source": [
    "In conclusion, thus we can utilize some neural networks techniques to study the temporal pattern of accidents. The patterns can also be used for future of accident cases. It can be utilized by the stakeholders to take appropriate actions. "
   ]
  },
  {
   "cell_type": "code",
   "execution_count": null,
   "metadata": {},
   "outputs": [],
   "source": []
  }
 ],
 "metadata": {
  "kernelspec": {
   "display_name": "Python 3",
   "language": "python",
   "name": "python3"
  },
  "language_info": {
   "codemirror_mode": {
    "name": "ipython",
    "version": 3
   },
   "file_extension": ".py",
   "mimetype": "text/x-python",
   "name": "python",
   "nbconvert_exporter": "python",
   "pygments_lexer": "ipython3",
   "version": "3.7.6"
  }
 },
 "nbformat": 4,
 "nbformat_minor": 4
}
