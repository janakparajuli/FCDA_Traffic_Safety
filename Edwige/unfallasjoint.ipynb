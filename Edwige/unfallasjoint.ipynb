{
 "cells": [
  {
   "cell_type": "markdown",
   "metadata": {},
   "source": [
    "# Intro\n",
    "\n",
    "The aim of this notebook is to use density based clustering (DBSCAN) to identify accident hotspots in Hamburg for the year 2016. DBSCAN groups points that are closely packed together and marks points outside of these groups as noise. Therefore, using this algorithm, locations in which a high density of accidents take place will be highlighted as clusters. We can then plot the location of these clusters using folium. First we need to load in the data:"
   ]
  },
  {
   "cell_type": "code",
   "execution_count": 1,
   "metadata": {
    "_cell_guid": "b1076dfc-b9ad-4769-8c92-a6c4dae69d19",
    "_uuid": "8f2839f25d086af736a60e9eeb907d3b93b6e0e5"
   },
   "outputs": [],
   "source": [
    "import numpy as np \n",
    "import pandas as pd \n",
    "import folium\n",
    "from folium.plugins import HeatMap\n",
    "from geopy.distance import great_circle\n",
    "from sklearn.cluster import DBSCAN as dbscan\n",
    "import math\n",
    "import matplotlib.pyplot as plt\n",
    "from mpl_toolkits.mplot3d import Axes3D"
   ]
  },
  {
   "cell_type": "markdown",
   "metadata": {},
   "source": [
    "Define a function to generate base map"
   ]
  },
  {
   "cell_type": "code",
   "execution_count": 2,
   "metadata": {},
   "outputs": [],
   "source": [
    "def generateBaseMap(default_location=[53.540086,9.967263], default_zoom_start=12):\n",
    "    base_map = folium.Map(location=default_location, control_scale=True, zoom_start=default_zoom_start)\n",
    "    return base_map"
   ]
  },
  {
   "cell_type": "code",
   "execution_count": null,
   "metadata": {},
   "outputs": [],
   "source": []
  },
  {
   "cell_type": "code",
   "execution_count": 3,
   "metadata": {},
   "outputs": [
    {
     "data": {
      "text/html": [
       "<div>\n",
       "<style scoped>\n",
       "    .dataframe tbody tr th:only-of-type {\n",
       "        vertical-align: middle;\n",
       "    }\n",
       "\n",
       "    .dataframe tbody tr th {\n",
       "        vertical-align: top;\n",
       "    }\n",
       "\n",
       "    .dataframe thead th {\n",
       "        text-align: right;\n",
       "    }\n",
       "</style>\n",
       "<table border=\"1\" class=\"dataframe\">\n",
       "  <thead>\n",
       "    <tr style=\"text-align: right;\">\n",
       "      <th></th>\n",
       "      <th>Year</th>\n",
       "      <th>Hour</th>\n",
       "      <th>No.involved</th>\n",
       "      <th>Longitude</th>\n",
       "      <th>Latitude</th>\n",
       "    </tr>\n",
       "  </thead>\n",
       "  <tbody>\n",
       "    <tr>\n",
       "      <td>0</td>\n",
       "      <td>2016</td>\n",
       "      <td>16</td>\n",
       "      <td>2</td>\n",
       "      <td>9.853808</td>\n",
       "      <td>53.598265</td>\n",
       "    </tr>\n",
       "    <tr>\n",
       "      <td>1</td>\n",
       "      <td>2016</td>\n",
       "      <td>12</td>\n",
       "      <td>1</td>\n",
       "      <td>9.852056</td>\n",
       "      <td>53.598460</td>\n",
       "    </tr>\n",
       "    <tr>\n",
       "      <td>2</td>\n",
       "      <td>2016</td>\n",
       "      <td>18</td>\n",
       "      <td>2</td>\n",
       "      <td>9.853749</td>\n",
       "      <td>53.598346</td>\n",
       "    </tr>\n",
       "    <tr>\n",
       "      <td>3</td>\n",
       "      <td>2016</td>\n",
       "      <td>19</td>\n",
       "      <td>2</td>\n",
       "      <td>10.145766</td>\n",
       "      <td>53.678078</td>\n",
       "    </tr>\n",
       "    <tr>\n",
       "      <td>4</td>\n",
       "      <td>2016</td>\n",
       "      <td>12</td>\n",
       "      <td>1</td>\n",
       "      <td>10.168288</td>\n",
       "      <td>53.534661</td>\n",
       "    </tr>\n",
       "    <tr>\n",
       "      <td>...</td>\n",
       "      <td>...</td>\n",
       "      <td>...</td>\n",
       "      <td>...</td>\n",
       "      <td>...</td>\n",
       "      <td>...</td>\n",
       "    </tr>\n",
       "    <tr>\n",
       "      <td>7206</td>\n",
       "      <td>2016</td>\n",
       "      <td>11</td>\n",
       "      <td>2</td>\n",
       "      <td>9.978172</td>\n",
       "      <td>53.458331</td>\n",
       "    </tr>\n",
       "    <tr>\n",
       "      <td>7207</td>\n",
       "      <td>2016</td>\n",
       "      <td>8</td>\n",
       "      <td>3</td>\n",
       "      <td>10.134735</td>\n",
       "      <td>53.670281</td>\n",
       "    </tr>\n",
       "    <tr>\n",
       "      <td>7208</td>\n",
       "      <td>2016</td>\n",
       "      <td>7</td>\n",
       "      <td>1</td>\n",
       "      <td>9.908848</td>\n",
       "      <td>53.610363</td>\n",
       "    </tr>\n",
       "    <tr>\n",
       "      <td>7209</td>\n",
       "      <td>2016</td>\n",
       "      <td>14</td>\n",
       "      <td>2</td>\n",
       "      <td>10.014119</td>\n",
       "      <td>53.518401</td>\n",
       "    </tr>\n",
       "    <tr>\n",
       "      <td>7210</td>\n",
       "      <td>2016</td>\n",
       "      <td>14</td>\n",
       "      <td>1</td>\n",
       "      <td>10.178387</td>\n",
       "      <td>53.590645</td>\n",
       "    </tr>\n",
       "  </tbody>\n",
       "</table>\n",
       "<p>7211 rows × 5 columns</p>\n",
       "</div>"
      ],
      "text/plain": [
       "      Year  Hour  No.involved  Longitude   Latitude\n",
       "0     2016    16            2   9.853808  53.598265\n",
       "1     2016    12            1   9.852056  53.598460\n",
       "2     2016    18            2   9.853749  53.598346\n",
       "3     2016    19            2  10.145766  53.678078\n",
       "4     2016    12            1  10.168288  53.534661\n",
       "...    ...   ...          ...        ...        ...\n",
       "7206  2016    11            2   9.978172  53.458331\n",
       "7207  2016     8            3  10.134735  53.670281\n",
       "7208  2016     7            1   9.908848  53.610363\n",
       "7209  2016    14            2  10.014119  53.518401\n",
       "7210  2016    14            1  10.178387  53.590645\n",
       "\n",
       "[7211 rows x 5 columns]"
      ]
     },
     "execution_count": 3,
     "metadata": {},
     "output_type": "execute_result"
    }
   ],
   "source": [
    "df = pd.read_csv('acc2016hamburg.csv', usecols = ['Latitude','Longitude','No.involved','Hour','Year'])\n",
    "df"
   ]
  },
  {
   "cell_type": "markdown",
   "metadata": {},
   "source": [
    "#Check the types of variables...lat/long should be float not string"
   ]
  },
  {
   "cell_type": "code",
   "execution_count": null,
   "metadata": {},
   "outputs": [],
   "source": [
    "df.dtypes"
   ]
  },
  {
   "cell_type": "markdown",
   "metadata": {},
   "source": [
    "#first, copy all data to our map dataframe"
   ]
  },
  {
   "cell_type": "code",
   "execution_count": 4,
   "metadata": {},
   "outputs": [
    {
     "data": {
      "text/html": [
       "<div>\n",
       "<style scoped>\n",
       "    .dataframe tbody tr th:only-of-type {\n",
       "        vertical-align: middle;\n",
       "    }\n",
       "\n",
       "    .dataframe tbody tr th {\n",
       "        vertical-align: top;\n",
       "    }\n",
       "\n",
       "    .dataframe thead th {\n",
       "        text-align: right;\n",
       "    }\n",
       "</style>\n",
       "<table border=\"1\" class=\"dataframe\">\n",
       "  <thead>\n",
       "    <tr style=\"text-align: right;\">\n",
       "      <th></th>\n",
       "      <th></th>\n",
       "      <th>count</th>\n",
       "    </tr>\n",
       "    <tr>\n",
       "      <th>Latitude</th>\n",
       "      <th>Longitude</th>\n",
       "      <th></th>\n",
       "    </tr>\n",
       "  </thead>\n",
       "  <tbody>\n",
       "    <tr>\n",
       "      <td>53.518486</td>\n",
       "      <td>10.015559</td>\n",
       "      <td>3</td>\n",
       "    </tr>\n",
       "    <tr>\n",
       "      <td>53.582338</td>\n",
       "      <td>10.067752</td>\n",
       "      <td>3</td>\n",
       "    </tr>\n",
       "    <tr>\n",
       "      <td>53.601760</td>\n",
       "      <td>9.994112</td>\n",
       "      <td>2</td>\n",
       "    </tr>\n",
       "    <tr>\n",
       "      <td>53.586051</td>\n",
       "      <td>9.967585</td>\n",
       "      <td>2</td>\n",
       "    </tr>\n",
       "    <tr>\n",
       "      <td>53.487154</td>\n",
       "      <td>10.218335</td>\n",
       "      <td>2</td>\n",
       "    </tr>\n",
       "    <tr>\n",
       "      <td>53.538868</td>\n",
       "      <td>10.127324</td>\n",
       "      <td>2</td>\n",
       "    </tr>\n",
       "    <tr>\n",
       "      <td>53.558894</td>\n",
       "      <td>10.025903</td>\n",
       "      <td>2</td>\n",
       "    </tr>\n",
       "    <tr>\n",
       "      <td>53.595070</td>\n",
       "      <td>9.924131</td>\n",
       "      <td>2</td>\n",
       "    </tr>\n",
       "    <tr>\n",
       "      <td>53.600940</td>\n",
       "      <td>9.889113</td>\n",
       "      <td>2</td>\n",
       "    </tr>\n",
       "    <tr>\n",
       "      <td>53.498739</td>\n",
       "      <td>10.010197</td>\n",
       "      <td>2</td>\n",
       "    </tr>\n",
       "  </tbody>\n",
       "</table>\n",
       "</div>"
      ],
      "text/plain": [
       "                     count\n",
       "Latitude  Longitude       \n",
       "53.518486 10.015559      3\n",
       "53.582338 10.067752      3\n",
       "53.601760 9.994112       2\n",
       "53.586051 9.967585       2\n",
       "53.487154 10.218335      2\n",
       "53.538868 10.127324      2\n",
       "53.558894 10.025903      2\n",
       "53.595070 9.924131       2\n",
       "53.600940 9.889113       2\n",
       "53.498739 10.010197      2"
      ]
     },
     "execution_count": 4,
     "metadata": {},
     "output_type": "execute_result"
    }
   ],
   "source": [
    "df_map = df.copy()\n",
    "df_map['count']=1\n",
    "df_map[['Latitude', 'Longitude', 'count']].groupby(['Latitude', 'Longitude']).sum().sort_values('count', ascending=False).head(10)"
   ]
  },
  {
   "cell_type": "markdown",
   "metadata": {},
   "source": [
    "Generate a base map and then heat map"
   ]
  },
  {
   "cell_type": "code",
   "execution_count": 5,
   "metadata": {},
   "outputs": [],
   "source": [
    "base_map = generateBaseMap()\n",
    "base_map\n",
    "m = HeatMap(data=df_map[['Latitude', 'Longitude', 'count']].groupby(['Latitude','Longitude']).sum().reset_index().values.tolist(), radius=7, max_zoom=10).add_to(base_map)\n",
    "m.save('accident_heatmap.html')"
   ]
  },
  {
   "cell_type": "markdown",
   "metadata": {},
   "source": [
    "DBSCAN requires a metric to use when calculating the distance between points. To do this we shall create a function that takes the latitude and longitude of two points and calculates the distance between them in meters. The great_circle function from geopy is used to ensure that the curvature of the Earth is taken into account when calculating these distances. "
   ]
  },
  {
   "cell_type": "code",
   "execution_count": 6,
   "metadata": {
    "_cell_guid": "79c7e3d0-c299-4dcb-8224-4455121ee9b0",
    "_uuid": "d629ff2d2480ee46fbb7e2d37f6b5fab8052498a"
   },
   "outputs": [],
   "source": [
    "def greatcircle(x,y):\n",
    "    lat1, long1 = x[0], x[1]\n",
    "    lat2, long2 = y[0], y[1]\n",
    "    dist = great_circle((lat1,long1),(lat2,long2)).meters\n",
    "    return dist"
   ]
  },
  {
   "cell_type": "markdown",
   "metadata": {},
   "source": [
    "Now we can find the clusters. The eps parameter determines the maximum distance between two samples for one to be considered as in the neighborhood of the other. This and the min_samples parameter can be adjusted to change the size and number of points contained in each cluster. Points not located within clusters are given the label -1."
   ]
  },
  {
   "cell_type": "code",
   "execution_count": 10,
   "metadata": {},
   "outputs": [
    {
     "name": "stdout",
     "output_type": "stream",
     "text": [
      "[-1  0  1  2  3  4  5  6  7  8  9 10 11 12 13 14 15 16 17 18 19 20 21 22\n",
      " 23 24 25 26 27 28 29 30 31 32 33 34 35 36 37 38 39 40 41 42 43 44 45 46\n",
      " 47 48 49 50 51 52 53 54 55 56 57 58]\n"
     ]
    }
   ],
   "source": [
    "eps = 100 #distance in meters\n",
    "min_samples = 10\n",
    "\n",
    "df_dbc = df\n",
    "\n",
    "loc = df_dbc[['Latitude','Longitude']]\n",
    "\n",
    "dbc = dbscan(eps = eps, min_samples = min_samples, metric=greatcircle).fit(loc)\n",
    "\n",
    "labels = dbc.labels_\n",
    "unique_labels = np.unique(dbc.labels_)\n",
    "\n",
    "print(unique_labels)\n",
    "\n",
    "df_dbc['Cluster'] = labels"
   ]
  },
  {
   "cell_type": "markdown",
   "metadata": {},
   "source": [
    "Now that we have found the clusters we can plot them on a map using folium. We can assign colours to each cluster so that they can be more easily identified."
   ]
  },
  {
   "cell_type": "code",
   "execution_count": 12,
   "metadata": {},
   "outputs": [],
   "source": [
    "location = df_dbc['Latitude'].mean(), df_dbc['Longitude'].mean()\n",
    "\n",
    "m = folium.Map(location=location,zoom_start=13)\n",
    "\n",
    "folium.TileLayer('cartodbpositron').add_to(m)\n",
    "\n",
    "clust_colours = ['#a6cee3','#1f78b4','#b2df8a','#33a02c','#fb9a99','#e31a1c','#fdbf6f','#ff7f00','#cab2d6','#6a3d9a','#ffff99','#b15928']\n",
    "\n",
    "for i in range(0,len(df_dbc)):\n",
    "    colouridx = df_dbc['Cluster'].iloc[i]\n",
    "    if colouridx == -1:\n",
    "        pass\n",
    "    else:\n",
    "        col = clust_colours[colouridx%len(clust_colours)]\n",
    "        folium.CircleMarker([df_dbc['Latitude'].iloc[i],df_dbc['Longitude'].iloc[i]], radius = 10, color = col, fill = col).add_to(m)\n",
    "m.save('accident_spatialclusters.html')"
   ]
  },
  {
   "cell_type": "markdown",
   "metadata": {},
   "source": [
    "We have found the spacial clusters, but what if we want to find the regions *and* times that accidents are most likely to occur?  To achieve this we need to perform spaciotemporal clustering. This was done by creating a new distance metric that takes both space and time into account:"
   ]
  },
  {
   "cell_type": "code",
   "execution_count": 7,
   "metadata": {},
   "outputs": [],
   "source": [
    "# here we first set the limits for the distances used in space and time for clustering\n",
    "spatial_dist_max = 500 # meters\n",
    "temporal_dist_max = 5 # hours\n",
    "\n",
    "def GreatCircle(lat1,long1,lat2,long2):\n",
    "    dist = great_circle((lat1,long1),(lat2,long2)).meters\n",
    "    return dist\n",
    "\n",
    "def SpaceTimeDistance(x,y):\n",
    "    diff_days = math.fabs(x[2] - y[2])\n",
    "    if (np.isnan(diff_days) or diff_days > temporal_dist_max):\n",
    "        return np.Infinity\n",
    "    \n",
    "    try:\n",
    "        gc_dist = GreatCircle(x[1],x[0],y[1],y[0])\n",
    "    except ValueError:\n",
    "        #print(x[1],x[0],y[1],y[0])\n",
    "        gc_dist = np.Infinity\n",
    "    \n",
    "    if (gc_dist>spatial_dist_max):\n",
    "        return np.Infinity\n",
    "    \n",
    "    ratio_t=diff_days/temporal_dist_max\n",
    "    ratio_d=gc_dist/spatial_dist_max\n",
    "    if (ratio_d>ratio_t):\n",
    "        return gc_dist\n",
    "    else:\n",
    "        return ratio_t * spatial_dist_max\n"
   ]
  },
  {
   "cell_type": "markdown",
   "metadata": {},
   "source": [
    "Use this metric to determine the clusters:"
   ]
  },
  {
   "cell_type": "code",
   "execution_count": 14,
   "metadata": {},
   "outputs": [
    {
     "name": "stdout",
     "output_type": "stream",
     "text": [
      "[-1  0  1  2  3  4  5  6  7  8  9 10 11 12 13 14 15 16 17 18]\n"
     ]
    }
   ],
   "source": [
    "eps = 100\n",
    "min_no_samples = 5\n",
    "\n",
    "clustered = dbscan(eps = eps, metric=SpaceTimeDistance, min_samples=min_no_samples).fit(df[['Latitude','Longitude','Hour']])\n",
    "labels=clustered.labels_\n",
    "unique_labels=np.unique(clustered.labels_)\n",
    "\n",
    "df_sptc = df\n",
    "df_sptc['Cluster'] = labels\n",
    "\n",
    "print(unique_labels)"
   ]
  },
  {
   "cell_type": "markdown",
   "metadata": {},
   "source": [
    "Once again we can plot these clusters onto a map using folium. In this case I thought it would be interesting to colour the clusters according to the number of vehicles involved in the accident."
   ]
  },
  {
   "cell_type": "code",
   "execution_count": 15,
   "metadata": {},
   "outputs": [],
   "source": [
    "df_sptc['colour'] = df['No.involved']\n",
    "\n",
    "df_sptc.loc[df_sptc['No.involved'] == 1, 'colour'] = '#ff7f00' #orange\n",
    "df_sptc.loc[df_sptc['No.involved'] == 2, 'colour'] = '#1f78b4' #blue\n",
    "df_sptc.loc[df_sptc['No.involved'] == 3, 'colour'] = '#b2df8a' #green\n",
    "df_sptc.loc[df_sptc['No.involved'] == 4, 'colour'] = '#e31a1c' #red\n",
    "\n",
    "location = df_sptc['Latitude'].mean(), df_sptc['Longitude'].mean()\n",
    "m = folium.Map(location=location,zoom_start=13)\n",
    "folium.TileLayer('cartodbpositron').add_to(m)\n",
    "\n",
    "for i in range(0,len(df_sptc)): \n",
    "    if df_sptc['Cluster'].iloc[i] == -1:\n",
    "        pass\n",
    "    else:\n",
    "        col = df_sptc['colour'].iloc[i]\n",
    "        folium.CircleMarker([df_sptc['Latitude'].iloc[i],df_sptc['Longitude'].iloc[i]], radius = 10, color = col, fill = col).add_to(m)\n",
    "\n",
    "m.save('accident_prediction.html')"
   ]
  },
  {
   "cell_type": "markdown",
   "metadata": {},
   "source": [
    "This shows that accidents involving two or more vehicles are more likely to take place at busy junctions such as those near bridges. Conversly, accidents involving one vehicle are generally found in areas containing large numbers of pedestrians such as Rothenbaumchaussee Street.\n",
    "\n",
    "We can try and visualise the hours in which these accidents take place using a space-time cube:"
   ]
  },
  {
   "cell_type": "code",
   "execution_count": 16,
   "metadata": {},
   "outputs": [
    {
     "data": {
      "image/png": "[encoded data removed]",
      "text/plain": [
       "<Figure size 432x288 with 1 Axes>"
      ]
     },
     "metadata": {
      "needs_background": "light"
     },
     "output_type": "display_data"
    }
   ],
   "source": [
    "plotpoint_colour = 'colour'\n",
    "\n",
    "fig = plt.figure(1)\n",
    "ax = Axes3D(fig, rect=[0, 0, .95, 1], elev=20, azim=30) # change parameters here for experimenting\n",
    "\n",
    "df_sptc_nn = df_sptc[df_sptc['Cluster'] != -1] # remove noise\n",
    "ax.scatter(df_sptc_nn['Longitude'], df_sptc_nn['Latitude'], df_sptc_nn['Hour'], c = df_sptc_nn[plotpoint_colour], alpha=0.5)\n",
    "\n",
    "plt.show()"
   ]
  },
  {
   "cell_type": "markdown",
   "metadata": {},
   "source": [
    "This representation is fairly confusing but it does provide a general idea of the cluster locations in spacetime. \n",
    "\n"
   ]
  },
  {
   "cell_type": "code",
   "execution_count": null,
   "metadata": {},
   "outputs": [],
   "source": []
  }
 ],
 "metadata": {
  "kernelspec": {
   "display_name": "Python 3",
   "language": "python",
   "name": "python3"
  },
  "language_info": {
   "codemirror_mode": {
    "name": "ipython",
    "version": 3
   },
   "file_extension": ".py",
   "mimetype": "text/x-python",
   "name": "python",
   "nbconvert_exporter": "python",
   "pygments_lexer": "ipython3",
   "version": "3.7.4"
  }
 },
 "nbformat": 4,
 "nbformat_minor": 1
}
